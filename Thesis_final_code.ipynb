{
 "cells": [
  {
   "cell_type": "markdown",
   "id": "a56d7be4",
   "metadata": {},
   "source": [
    "# Classification Analysis of GK Dives"
   ]
  },
  {
   "cell_type": "markdown",
   "id": "1c75cccd",
   "metadata": {},
   "source": [
    "## 1) Import Necessary Modules"
   ]
  },
  {
   "cell_type": "code",
   "execution_count": 1,
   "id": "5b989535",
   "metadata": {},
   "outputs": [],
   "source": [
    "import pandas as pd\n",
    "import matplotlib.pyplot as plt\n",
    "import seaborn as sns\n",
    "import sklearn.metrics as metrics\n",
    "from sklearn.model_selection import KFold\n",
    "from sklearn.preprocessing import StandardScaler\n",
    "from sklearn.cluster import KMeans\n",
    "from sklearn.decomposition import PCA\n",
    "from sklearn.feature_selection import SelectKBest, f_classif, chi2 \n",
    "from sklearn.ensemble import ExtraTreesClassifier, RandomForestClassifier\n",
    "from sklearn.neighbors import KNeighborsClassifier\n",
    "from sklearn.svm import SVC\n",
    "from sklearn.metrics import classification_report, accuracy_score, precision_score, recall_score, f1_score\n",
    "from sklearn.model_selection import cross_val_predict, train_test_split, GridSearchCV\n",
    "from sklearn.tree import DecisionTreeClassifier\n",
    "from sklearn.linear_model import LogisticRegression"
   ]
  },
  {
   "cell_type": "markdown",
   "id": "79af6d3b",
   "metadata": {},
   "source": [
    "## 2) Compiling Dataset"
   ]
  },
  {
   "cell_type": "code",
   "execution_count": 2,
   "id": "ed28bf01",
   "metadata": {},
   "outputs": [
    {
     "data": {
      "text/plain": [
       "\"code was used on the original files extracted from the GPS trackers to\\n   compile them into a single dataframe and create a .csv file called 'All_GK_Dives.csv'\""
      ]
     },
     "execution_count": 2,
     "metadata": {},
     "output_type": "execute_result"
    }
   ],
   "source": [
    "\"\"\"code was used on the original files extracted from the GPS trackers to\n",
    "   compile them into a single dataframe and create a .csv file called 'All_GK_Dives.csv'\"\"\"\n",
    "\n",
    "#f1 = pd.DataFrame()\n",
    "#ath_dir = 'C:/Users/darag/Desktop/Final Year Project/'\n",
    "#ll_files = os.listdir(path_dir)    \n",
    "#sv_files = list(filter(lambda f: f.endswith('.csv'), all_files))\n",
    "\n",
    "#summary_file = []\n",
    "#for fil in csv_files:\n",
    "#    print(path_dir + fil)\n",
    "#    summary_file.append(path_dir + fil)\n",
    "\n",
    "#for file in summary_file:\n",
    "#    if os.path.exists(file): #if file exists:\n",
    "#           df_summary = pd.read_excel(file, index_col = 0)\n",
    "#           df1 = df1.append(df_summary, ignore_index=True, sort=False)\n",
    "     \n",
    "#file_name = df1.to_csv('All_GK_Dives.csv', index = True)"
   ]
  },
  {
   "cell_type": "markdown",
   "id": "b5aaf207",
   "metadata": {},
   "source": [
    "### Reading in dataset and applying descriptive statistics"
   ]
  },
  {
   "cell_type": "code",
   "execution_count": 3,
   "id": "320e4689",
   "metadata": {},
   "outputs": [
    {
     "name": "stdout",
     "output_type": "stream",
     "text": [
      "        Unnamed: 0  Classification      Classes     Duration   Peak Acc x  \\\n",
      "count  6693.000000     6693.000000  1968.000000  6693.000000  6693.000000   \n",
      "mean   3346.000000        0.293889     6.726626     1.448424     3.108194   \n",
      "std    1932.247008        0.455576     3.517761     0.475012     3.239713   \n",
      "min       0.000000        0.000000     1.000000     0.000000    -1.707024   \n",
      "25%    1673.000000        0.000000     5.000000     1.100000     1.215852   \n",
      "50%    3346.000000        0.000000     7.000000     1.500000     1.910520   \n",
      "75%    5019.000000        1.000000    10.000000     1.800000     3.119784   \n",
      "max    6692.000000        1.000000    14.000000     2.000000    15.988344   \n",
      "\n",
      "        Mean Acc x   Peak Acc y   Mean Acc y   Peak Acc z   Mean Acc z  ...  \\\n",
      "count  6693.000000  6693.000000  6693.000000  6693.000000  6693.000000  ...   \n",
      "mean      0.009835     4.532907     0.506030     3.758378     0.599714  ...   \n",
      "std       0.359638     1.815327     0.498997     2.050036     0.290973  ...   \n",
      "min      -2.650060    -3.259596    -3.259596    -0.354288    -1.148495  ...   \n",
      "25%      -0.116306     3.435276     0.126531     2.383392     0.469201  ...   \n",
      "50%       0.008207     4.267560     0.639725     3.042924     0.622418  ...   \n",
      "75%       0.132242     5.371416     0.834511     4.411032     0.770384  ...   \n",
      "max       3.360246    15.079200     4.998096    13.107192     3.098922  ...   \n",
      "\n",
      "       Peak Gyro Mag  Mean Gyro Mag   Peak Speed   Mean Speed    Mag Speed  \\\n",
      "count    6693.000000    6693.000000  6693.000000  6693.000000  6693.000000   \n",
      "mean      593.462045     146.392173     2.879299     2.879299     2.288975   \n",
      "std       464.104157      59.535990     1.123957     1.123957     1.196585   \n",
      "min        72.993253      25.763946     0.000000     0.000000     0.000000   \n",
      "25%       294.180561     103.957580     2.113891     2.113891     1.361112   \n",
      "50%       413.244862     134.797544     2.877780     2.877780     2.236113   \n",
      "75%       694.010177     174.962484     3.636114     3.636114     3.125002   \n",
      "max      2959.506215     674.643067     7.544450     7.544450     7.088895   \n",
      "\n",
      "       Peak Acceleration (m/s2)  N Mag Peaks  N Gyro Mag Peaks          Age  \\\n",
      "count               6693.000000  6693.000000       6693.000000  6693.000000   \n",
      "mean                   1.642992     1.790826          2.986404    27.235320   \n",
      "std                    0.874127     1.145768          1.876800     5.086731   \n",
      "min                   -1.497316     0.000000          0.000000    17.000000   \n",
      "25%                    0.976483     1.000000          2.000000    28.000000   \n",
      "50%                    1.526181     1.000000          3.000000    28.000000   \n",
      "75%                    2.204733     2.000000          4.000000    32.000000   \n",
      "max                    5.384127     9.000000         12.000000    32.000000   \n",
      "\n",
      "            Height  \n",
      "count  6693.000000  \n",
      "mean    188.104587  \n",
      "std       4.396495  \n",
      "min     173.000000  \n",
      "25%     188.000000  \n",
      "50%     188.000000  \n",
      "75%     191.000000  \n",
      "max     192.000000  \n",
      "\n",
      "[8 rows x 28 columns]\n",
      "                          count\n",
      "Unnamed: 0                    0\n",
      "Folder Name                   0\n",
      "Start Time                    0\n",
      "End Time                      0\n",
      "Classification                0\n",
      "Classes                    4725\n",
      "Duration                      0\n",
      "Peak Acc x                    0\n",
      "Mean Acc x                    0\n",
      "Peak Acc y                    0\n",
      "Mean Acc y                    0\n",
      "Peak Acc z                    0\n",
      "Mean Acc z                    0\n",
      "Peak Gyro x                   0\n",
      "Mean Gyro x                   0\n",
      "Peak Gyro y                   0\n",
      "Mean Gyro y                   0\n",
      "Peak Gyro z                   0\n",
      "Mean Gyro z                   0\n",
      "Peak Mag                      0\n",
      "Mean Mag                      0\n",
      "Peak Gyro Mag                 0\n",
      "Mean Gyro Mag                 0\n",
      "Peak Speed                    0\n",
      "Mean Speed                    0\n",
      "Mag Speed                     0\n",
      "Peak Acceleration (m/s2)      0\n",
      "N Mag Peaks                   0\n",
      "N Gyro Mag Peaks              0\n",
      "Age                           0\n",
      "Height                        0\n"
     ]
    }
   ],
   "source": [
    "df1 = pd.read_csv('All_GK_Dives.csv')\n",
    "\n",
    "# Get descriptive statistics on the DataFrame\n",
    "stats = df1.describe()\n",
    "\n",
    "# Display the descriptive statistics\n",
    "print(stats)\n",
    "\n",
    "#count the number of null values\n",
    "null_df = df1.apply(lambda x: sum(x.isnull())).to_frame(name= 'count')\n",
    "print(null_df)"
   ]
  },
  {
   "cell_type": "markdown",
   "id": "f5cad139",
   "metadata": {},
   "source": [
    "## 3) Adding the additional data to the goalkeeping dataframe"
   ]
  },
  {
   "cell_type": "code",
   "execution_count": 4,
   "id": "7e1a271c",
   "metadata": {},
   "outputs": [
    {
     "name": "stdout",
     "output_type": "stream",
     "text": [
      "    Unnamed: 0    datetime Start Time  End Time Classification  Classes  \\\n",
      "0            0  13/10/2020   00:16:09  00:16:11              0      NaN   \n",
      "1            1  13/10/2020   00:17:10  00:17:11              0      NaN   \n",
      "2            2  13/10/2020   00:17:14  00:17:16              1      7.0   \n",
      "3            3  13/10/2020   00:17:17  00:17:18              1      3.0   \n",
      "4            4  13/10/2020   00:17:44  00:17:46              0      NaN   \n",
      "..         ...         ...        ...       ...            ...      ...   \n",
      "118       6688  18/05/2021   00:52:43  00:52:45              0      NaN   \n",
      "119       6689  18/05/2021   00:52:45  00:52:47              0      NaN   \n",
      "120       6690  18/05/2021   00:52:47  00:52:48              0      NaN   \n",
      "121       6691  18/05/2021   00:52:49  00:52:51              0      NaN   \n",
      "122       6692  18/05/2021   00:52:51  00:52:53              0      NaN   \n",
      "\n",
      "     Duration  Peak Acc x  Mean Acc x  Peak Acc y  ...  solarenergy  uvindex  \\\n",
      "0         2.0    1.613328   -0.025802    3.347436  ...          6.0      5.0   \n",
      "1         1.3    2.073024    0.038136    3.666588  ...          6.0      5.0   \n",
      "2         1.4    2.661552   -0.410439    2.659356  ...          6.0      5.0   \n",
      "3         1.3    3.999648   -0.494942    3.403800  ...          6.0      5.0   \n",
      "4         1.7    1.605276   -0.023642    4.178256  ...          6.0      5.0   \n",
      "..        ...         ...         ...         ...  ...          ...      ...   \n",
      "118       1.7    1.674084    0.107128    4.107252  ...         10.7      5.0   \n",
      "119       2.0    1.340292    0.020562    4.075776  ...         10.7      5.0   \n",
      "120       1.8    3.061224   -0.015233    4.801920  ...         10.7      5.0   \n",
      "121       2.0    2.175504   -0.045666    5.671536  ...         10.7      5.0   \n",
      "122       2.0    2.307264    0.133473    4.786548  ...         10.7      5.0   \n",
      "\n",
      "     severerisk              sunrise               sunset  moonphase  \\\n",
      "0           NaN  2020-10-13T07:44:01  2020-10-13T18:27:23       0.89   \n",
      "1           NaN  2020-10-13T07:44:01  2020-10-13T18:27:23       0.89   \n",
      "2           NaN  2020-10-13T07:44:01  2020-10-13T18:27:23       0.89   \n",
      "3           NaN  2020-10-13T07:44:01  2020-10-13T18:27:23       0.89   \n",
      "4           NaN  2020-10-13T07:44:01  2020-10-13T18:27:23       0.89   \n",
      "..          ...                  ...                  ...        ...   \n",
      "118         NaN  2021-05-18T05:14:28  2021-05-18T21:19:34       0.23   \n",
      "119         NaN  2021-05-18T05:14:28  2021-05-18T21:19:34       0.23   \n",
      "120         NaN  2021-05-18T05:14:28  2021-05-18T21:19:34       0.23   \n",
      "121         NaN  2021-05-18T05:14:28  2021-05-18T21:19:34       0.23   \n",
      "122         NaN  2021-05-18T05:14:28  2021-05-18T21:19:34       0.23   \n",
      "\n",
      "                 conditions  \\\n",
      "0    Rain, Partially cloudy   \n",
      "1    Rain, Partially cloudy   \n",
      "2    Rain, Partially cloudy   \n",
      "3    Rain, Partially cloudy   \n",
      "4    Rain, Partially cloudy   \n",
      "..                      ...   \n",
      "118  Rain, Partially cloudy   \n",
      "119  Rain, Partially cloudy   \n",
      "120  Rain, Partially cloudy   \n",
      "121  Rain, Partially cloudy   \n",
      "122  Rain, Partially cloudy   \n",
      "\n",
      "                                           description  icon  \\\n",
      "0    Partly cloudy throughout the day with late aft...  rain   \n",
      "1    Partly cloudy throughout the day with late aft...  rain   \n",
      "2    Partly cloudy throughout the day with late aft...  rain   \n",
      "3    Partly cloudy throughout the day with late aft...  rain   \n",
      "4    Partly cloudy throughout the day with late aft...  rain   \n",
      "..                                                 ...   ...   \n",
      "118        Partly cloudy throughout the day with rain.  rain   \n",
      "119        Partly cloudy throughout the day with rain.  rain   \n",
      "120        Partly cloudy throughout the day with rain.  rain   \n",
      "121        Partly cloudy throughout the day with rain.  rain   \n",
      "122        Partly cloudy throughout the day with rain.  rain   \n",
      "\n",
      "                                            stations  \n",
      "0    05280,C7997,C3276,01981,00760,04857,01975,04039  \n",
      "1    05280,C7997,C3276,01981,00760,04857,01975,04039  \n",
      "2    05280,C7997,C3276,01981,00760,04857,01975,04039  \n",
      "3    05280,C7997,C3276,01981,00760,04857,01975,04039  \n",
      "4    05280,C7997,C3276,01981,00760,04857,01975,04039  \n",
      "..                                               ...  \n",
      "118  05280,C7997,C3276,01981,00760,04857,01975,04039  \n",
      "119  05280,C7997,C3276,01981,00760,04857,01975,04039  \n",
      "120  05280,C7997,C3276,01981,00760,04857,01975,04039  \n",
      "121  05280,C7997,C3276,01981,00760,04857,01975,04039  \n",
      "122  05280,C7997,C3276,01981,00760,04857,01975,04039  \n",
      "\n",
      "[6693 rows x 63 columns]\n"
     ]
    }
   ],
   "source": [
    "df1 = df1.rename(columns={'Folder Name': 'datetime'})\n",
    "df1_weather = pd.read_csv('Hamburg-Arsenal-Colorado-Weather.csv')\n",
    "\n",
    "combined_df = pd.DataFrame(columns=df1.columns)\n",
    "\n",
    "# Iterate over the unique dates in the first dataframe\n",
    "for date in df1['datetime'].unique():\n",
    "    \n",
    "    # Filter the data for the current date in the first dataframe\n",
    "    filtered_df1 = df1[df1['datetime'] == date]\n",
    "    \n",
    "    # Filter the data for the current date in the second dataframe\n",
    "    filtered_df2 = df1_weather[df1_weather['datetime'] == date]\n",
    "    \n",
    "    # Combine the data for the current date\n",
    "    combined_data = pd.merge(filtered_df1, filtered_df2)\n",
    "    \n",
    "    \n",
    "    # Append the combined data to the new dataframe\n",
    "    combined_df = combined_df.append(combined_data)\n",
    "\n",
    "# Display the combined data\n",
    "print(combined_df)"
   ]
  },
  {
   "cell_type": "code",
   "execution_count": 5,
   "id": "ffb8226b",
   "metadata": {},
   "outputs": [],
   "source": [
    "#removing Qualitative and unessasary data from the combined data\n",
    "combined_df = combined_df.drop(['windgust', 'severerisk', 'feelslikemax', 'feelslikemin', 'feelslike', 'precipprob', 'precipcover', 'snowdepth', 'sealevelpressure', 'cloudcover', 'solarradiation', 'solarenergy', 'name', 'preciptype', 'sunrise', 'sunset', 'moonphase', 'conditions', 'description', 'icon', 'stations', 'severerisk'], axis=1)\n",
    "\n",
    "#creating variables and spliting them for creating binary action classification models\n",
    "Y_1 = combined_df['Classification'].astype(float)\n",
    "X_1 = combined_df.drop(['Unnamed: 0', 'Classes', 'datetime', 'Start Time', 'End Time', 'Classification'], axis=1)\n",
    "X_train1, X_test1, y_train1, y_test1 = train_test_split(X_1, Y_1, test_size=0.3, random_state=42)\n",
    "\n",
    "scaler = StandardScaler()\n",
    "# Fit and transform the data\n",
    "X_sc1 = scaler.fit_transform(X_1)\n",
    "X_df1=pd.DataFrame(X_sc1,columns=X_1.columns)"
   ]
  },
  {
   "cell_type": "code",
   "execution_count": 6,
   "id": "847a509a",
   "metadata": {},
   "outputs": [],
   "source": [
    "#removing none dive data to classify the dives\n",
    "df2 = combined_df.dropna()\n",
    "#creating variables and spliting them for creating multi-class dive classification models\n",
    "df2 = df2[df2['Classes'] < 14]\n",
    "Y_2 = df2['Classes']\n",
    "X_2 = df2.drop(['Unnamed: 0', 'Classes', 'datetime', 'Start Time', 'End Time', 'Classification'], axis=1)\n",
    "X_train2, X_test2, y_train2, y_test2 = train_test_split(X_2, Y_2, test_size=0.3, random_state=42)\n",
    "\n",
    "# Fit and transform the data\n",
    "X_sc2 = scaler.fit_transform(X_2)\n",
    "X_df2=pd.DataFrame(X_sc2,columns=X_2.columns)"
   ]
  },
  {
   "cell_type": "markdown",
   "id": "54083b23",
   "metadata": {},
   "source": [
    "## 4) Feature Selection"
   ]
  },
  {
   "cell_type": "markdown",
   "id": "6f8fa519",
   "metadata": {},
   "source": [
    "### 4.1) Univariate Selection (Goalkeeper Actions)"
   ]
  },
  {
   "cell_type": "code",
   "execution_count": 7,
   "id": "0515f0b4",
   "metadata": {},
   "outputs": [
    {
     "name": "stdout",
     "output_type": "stream",
     "text": [
      "                       Specs        Score\n",
      "4                 Mean Acc y  2780.608778\n",
      "13                  Peak Mag  1997.877594\n",
      "15             Peak Gyro Mag  1702.773561\n",
      "1                 Peak Acc x  1540.606899\n",
      "5                 Peak Acc z  1343.306705\n",
      "16             Mean Gyro Mag  1129.597215\n",
      "9                Peak Gyro y  1108.309314\n",
      "7                Peak Gyro x  1053.471994\n",
      "11               Peak Gyro z  1015.975057\n",
      "20  Peak Acceleration (m/s2)   978.142397\n"
     ]
    },
    {
     "name": "stderr",
     "output_type": "stream",
     "text": [
      "C:\\Users\\darag\\Anaconda1\\lib\\site-packages\\sklearn\\feature_selection\\_univariate_selection.py:114: UserWarning: Features [31] are constant.\n",
      "  warnings.warn(\"Features %s are constant.\" % constant_features_idx,\n",
      "C:\\Users\\darag\\Anaconda1\\lib\\site-packages\\sklearn\\feature_selection\\_univariate_selection.py:116: RuntimeWarning: invalid value encountered in true_divide\n",
      "  f = msb / msw\n"
     ]
    },
    {
     "data": {
      "text/plain": [
       "'\\nTitle: Discovering the shades of Feature Selection Methods\\nAuthor: Manoj, S\\nDate: 2021\\nAvailability: https://www.analyticsvidhya.com/blog/2021/04/discovering-the-shades-of-feature-selection-methods/\\n'"
      ]
     },
     "execution_count": 7,
     "metadata": {},
     "output_type": "execute_result"
    }
   ],
   "source": [
    "#apply SelectKBest class to extract top 10 best features\n",
    "bestfeatures = SelectKBest(score_func=f_classif, k=10)\n",
    "Kbest = bestfeatures.fit(X_df1, Y_1)\n",
    "dfscores = pd.DataFrame(Kbest.scores_)\n",
    "dfcolumns = pd.DataFrame(X_df1.columns)\n",
    "#concat two dataframes for better visualization \n",
    "featureScores = pd.concat([dfcolumns,dfscores],axis=1)\n",
    "featureScores.columns = ['Specs','Score']  #naming the dataframe columns\n",
    "print(featureScores.nlargest(10,'Score'))  #print 10 best features\n",
    "\n",
    "\"\"\"\n",
    "Title: Discovering the shades of Feature Selection Methods\n",
    "Author: Manoj, S\n",
    "Date: 2021\n",
    "Availability: https://www.analyticsvidhya.com/blog/2021/04/discovering-the-shades-of-feature-selection-methods/\n",
    "\"\"\""
   ]
  },
  {
   "cell_type": "markdown",
   "id": "61a05374",
   "metadata": {},
   "source": [
    "### 4.2) Extra Tree Classification (Goalkeeper Actions)"
   ]
  },
  {
   "cell_type": "code",
   "execution_count": 8,
   "id": "4f5a14ec",
   "metadata": {},
   "outputs": [
    {
     "name": "stdout",
     "output_type": "stream",
     "text": [
      "[0.02638776 0.05438885 0.04236409 0.03543757 0.09836223 0.04436892\n",
      " 0.04747681 0.03233162 0.02548775 0.03549618 0.02030493 0.0257593\n",
      " 0.0237692  0.05891075 0.02754628 0.04994659 0.03214329 0.02774987\n",
      " 0.02675888 0.03058949 0.03072373 0.02048574 0.02089586 0.01465964\n",
      " 0.01463634 0.01518676 0.01293637 0.01233362 0.01320421 0.01499912\n",
      " 0.01214218 0.         0.01425407 0.01405924 0.01354337 0.01035938]\n"
     ]
    },
    {
     "data": {
      "image/png": "[encoded data removed]",
      "text/plain": [
       "<Figure size 576x396 with 1 Axes>"
      ]
     },
     "metadata": {},
     "output_type": "display_data"
    }
   ],
   "source": [
    "model = ExtraTreesClassifier()\n",
    "model.fit(X_df1, Y_1)\n",
    "print(model.feature_importances_) #use inbuilt class feature_importances of tree based classifiers\n",
    "#plot graph of feature importances for better visualization\n",
    "plt.style.use('seaborn')\n",
    "feat_importances = pd.Series(model.feature_importances_, index=X_df1.columns)\n",
    "feat_importances.nlargest(10).plot(kind='barh', color= '#f8ab1c')\n",
    "plt.title('10 Most Important Features - Extra Tree Classifier', fontsize=18)\n",
    "plt.xlabel('Feature Importance Scores', fontsize=12)\n",
    "plt.ylabel('Features', fontsize=12)\n",
    "plt.show()"
   ]
  },
  {
   "cell_type": "markdown",
   "id": "f1dbe69a",
   "metadata": {},
   "source": [
    "### 4.3) Removing Features"
   ]
  },
  {
   "cell_type": "code",
   "execution_count": 9,
   "id": "7b74017e",
   "metadata": {},
   "outputs": [],
   "source": [
    "#Removing Features not found in either model from the dataframe and creating new data split\n",
    "X_df1 = X_df1.drop(['Duration', 'Mean Gyro x', 'Mean Gyro y', 'Mean Gyro z', 'Peak Speed', 'N Mag Peaks', 'N Gyro Mag Peaks', 'Mean Speed', 'Mag Speed', 'tempmin', 'temp', 'dew', 'humidity', 'tempmax', 'precip', 'snow', 'windspeed', 'winddir', 'visibility', 'uvindex'], axis=1)\n",
    "\n",
    "X_train_df1, X_test_df1, y_train_df1, y_test_df1 = train_test_split(X_df1, Y_1, test_size=0.3, random_state=42)"
   ]
  },
  {
   "cell_type": "markdown",
   "id": "f97cc9e7",
   "metadata": {},
   "source": [
    "### 4.4) Univariate Selection (Goalkeeper Dives)"
   ]
  },
  {
   "cell_type": "code",
   "execution_count": 10,
   "id": "03225bb2",
   "metadata": {},
   "outputs": [
    {
     "name": "stdout",
     "output_type": "stream",
     "text": [
      "          Specs       Score\n",
      "2    Mean Acc x  479.926435\n",
      "1    Peak Acc x  408.863369\n",
      "12  Mean Gyro z  278.285139\n",
      "4    Mean Acc y  155.695905\n",
      "19    Mag Speed  145.265480\n",
      "17   Peak Speed  131.429408\n",
      "18   Mean Speed  131.429408\n",
      "5    Peak Acc z  127.220085\n",
      "9   Peak Gyro y  124.740343\n",
      "13     Peak Mag  116.858868\n"
     ]
    },
    {
     "name": "stderr",
     "output_type": "stream",
     "text": [
      "C:\\Users\\darag\\Anaconda1\\lib\\site-packages\\sklearn\\feature_selection\\_univariate_selection.py:114: UserWarning: Features [31] are constant.\n",
      "  warnings.warn(\"Features %s are constant.\" % constant_features_idx,\n",
      "C:\\Users\\darag\\Anaconda1\\lib\\site-packages\\sklearn\\feature_selection\\_univariate_selection.py:116: RuntimeWarning: invalid value encountered in true_divide\n",
      "  f = msb / msw\n"
     ]
    },
    {
     "data": {
      "text/plain": [
       "'\\nTitle: Discovering the shades of Feature Selection Methods\\nAuthor: Manoj, S\\nDate: 2021\\nAvailability: https://www.analyticsvidhya.com/blog/2021/04/discovering-the-shades-of-feature-selection-methods/\\n'"
      ]
     },
     "execution_count": 10,
     "metadata": {},
     "output_type": "execute_result"
    }
   ],
   "source": [
    "#apply SelectKBest class to extract top 10 best features\n",
    "bestfeatures = SelectKBest(score_func=f_classif, k=10)\n",
    "fit = bestfeatures.fit(X_df2, Y_2)\n",
    "dfscores = pd.DataFrame(fit.scores_)\n",
    "dfcolumns = pd.DataFrame(X_df2.columns)\n",
    "#concat two dataframes for better visualization \n",
    "featureScores = pd.concat([dfcolumns,dfscores],axis=1)\n",
    "featureScores.columns = ['Specs','Score']  #naming the dataframe columns\n",
    "print(featureScores.nlargest(10,'Score'))  #print 10 best features\n",
    "\n",
    "\"\"\"\n",
    "Title: Discovering the shades of Feature Selection Methods\n",
    "Author: Manoj, S\n",
    "Date: 2021\n",
    "Availability: https://www.analyticsvidhya.com/blog/2021/04/discovering-the-shades-of-feature-selection-methods/\n",
    "\"\"\""
   ]
  },
  {
   "cell_type": "markdown",
   "id": "cdfa8ba4",
   "metadata": {},
   "source": [
    "### 4.5) Extra Tree Classification (Goalkeeper Dives)"
   ]
  },
  {
   "cell_type": "code",
   "execution_count": 11,
   "id": "03b5b0db",
   "metadata": {},
   "outputs": [
    {
     "name": "stdout",
     "output_type": "stream",
     "text": [
      "[0.02121024 0.08422063 0.09749724 0.02683094 0.04786963 0.04161562\n",
      " 0.03951362 0.01971137 0.02900218 0.03311923 0.03920917 0.0299077\n",
      " 0.06040679 0.02287206 0.02476619 0.02399198 0.03032658 0.02972825\n",
      " 0.02851985 0.03483237 0.01741867 0.01632431 0.02376313 0.01537169\n",
      " 0.02017921 0.01419774 0.0134357  0.01524274 0.01315992 0.01451218\n",
      " 0.01492301 0.         0.01532764 0.01442034 0.01497315 0.0115989 ]\n"
     ]
    },
    {
     "data": {
      "image/png": "[encoded data removed]",
      "text/plain": [
       "<Figure size 576x396 with 1 Axes>"
      ]
     },
     "metadata": {},
     "output_type": "display_data"
    }
   ],
   "source": [
    "model = ExtraTreesClassifier()\n",
    "model.fit(X_df2, Y_2)\n",
    "print(model.feature_importances_) #use inbuilt class feature_importances of tree based classifiers\n",
    "#plot graph of feature importances for better visualization\n",
    "plt.style.use('seaborn')\n",
    "feat_importances = pd.Series(model.feature_importances_, index=X_df2.columns)\n",
    "feat_importances.nlargest(10).plot(kind='barh', color= 'green')\n",
    "plt.title('10 Most Important Features - Extra Tree Classifier', fontsize=18)\n",
    "plt.xlabel('Feature Importance Scores', fontsize=12)\n",
    "plt.ylabel('Features', fontsize=12)\n",
    "plt.show()"
   ]
  },
  {
   "cell_type": "markdown",
   "id": "5d370532",
   "metadata": {},
   "source": [
    "### 4.6) Removing Features"
   ]
  },
  {
   "cell_type": "code",
   "execution_count": 12,
   "id": "c3863fe4",
   "metadata": {},
   "outputs": [],
   "source": [
    "#Removing Features not found in either model from the dataframe and creating new data split\n",
    "X_df2 = X_df2.drop(['Duration', 'Mean Gyro x', 'Peak Gyro x', 'Peak Mag', 'Mean Mag', 'Peak Gyro Mag', 'Peak Acceleration (m/s2)', 'N Mag Peaks', 'N Gyro Mag Peaks', 'tempmin', 'temp', 'dew', 'humidity', 'tempmax', 'precip', 'snow', 'windspeed', 'winddir', 'visibility', 'uvindex'], axis=1)\n",
    "\n",
    "X_train_df2, X_test_df2, y_train_df2, y_test_df2 = train_test_split(X_df2, Y_2, test_size=0.3, random_state=42)"
   ]
  },
  {
   "cell_type": "markdown",
   "id": "133b4d8c",
   "metadata": {},
   "source": [
    "## 5) Feature Extraction"
   ]
  },
  {
   "cell_type": "markdown",
   "id": "69a0cdd4",
   "metadata": {},
   "source": [
    "### 5.1) Elbow Method (Goalkeeper Actions)"
   ]
  },
  {
   "cell_type": "code",
   "execution_count": 13,
   "id": "55845540",
   "metadata": {},
   "outputs": [
    {
     "name": "stderr",
     "output_type": "stream",
     "text": [
      "C:\\Users\\darag\\AppData\\Local\\Temp/ipykernel_35504/1493911901.py:12: UserWarning: color is redundantly defined by the 'color' keyword argument and the fmt string \"bx-\" (-> color='b'). The keyword argument will take precedence.\n",
      "  plt.plot(K, Variance_1, 'bx-', color = '#f8ab1c')\n"
     ]
    },
    {
     "data": {
      "image/png": "[encoded data removed]",
      "text/plain": [
       "<Figure size 1152x576 with 1 Axes>"
      ]
     },
     "metadata": {},
     "output_type": "display_data"
    },
    {
     "data": {
      "text/plain": [
       "'\\nTitle: sklearn k-Means (Elbow and Silhouette Method)\\nAuthor: Naik, K\\nDate: 2022\\nAvailability: https://www.kaggle.com/code/funxexcel/p2-sklearn-k-means-elbow-and-silhouette-method/notebook\\n'"
      ]
     },
     "execution_count": 13,
     "metadata": {},
     "output_type": "execute_result"
    }
   ],
   "source": [
    "#create list to hold Variance values for each k value\n",
    "Variance_1 = []\n",
    "K = range(1,5)\n",
    "#loop to fit KMeans to the binary data k between 1 and 5\n",
    "for k in K:\n",
    "    kmeanModel = KMeans(n_clusters=k)\n",
    "    kmeanModel.fit(X_df1)\n",
    "    Variance_1.append(kmeanModel.inertia_)\n",
    "    \n",
    "#Plot k Values     \n",
    "plt.figure(figsize=(16,8))\n",
    "plt.plot(K, Variance_1, 'bx-', color = '#f8ab1c')\n",
    "plt.xlabel('k', fontsize=12)\n",
    "plt.ylabel('Variance', fontsize=12)\n",
    "plt.title('The Elbow Method showing the optimal k - Binary Classification', fontsize=18)\n",
    "sns.despine()\n",
    "plt.show()\n",
    "\n",
    "\"\"\"\n",
    "Title: sklearn k-Means (Elbow and Silhouette Method)\n",
    "Author: Naik, K\n",
    "Date: 2022\n",
    "Availability: https://www.kaggle.com/code/funxexcel/p2-sklearn-k-means-elbow-and-silhouette-method/notebook\n",
    "\"\"\""
   ]
  },
  {
   "cell_type": "markdown",
   "id": "83b95c38",
   "metadata": {},
   "source": [
    "### 5.2) Silhouette Scores (Goalkeeper Actions Data)"
   ]
  },
  {
   "cell_type": "code",
   "execution_count": 14,
   "id": "59a2a385",
   "metadata": {},
   "outputs": [
    {
     "name": "stdout",
     "output_type": "stream",
     "text": [
      "Silhouette score for k(clusters) = 2 is 0.4010159405983497\n",
      "Silhouette score for k(clusters) = 3 is 0.25928392772481273\n",
      "Silhouette score for k(clusters) = 4 is 0.2946118666709067\n",
      "Silhouette score for k(clusters) = 5 is 0.20613843362323434\n",
      "   Clusters  Sil Score\n",
      "0         2   0.401016\n",
      "1         3   0.259284\n",
      "2         4   0.294612\n",
      "3         5   0.206138\n"
     ]
    },
    {
     "data": {
      "image/png": "[encoded data removed]",
      "text/plain": [
       "<Figure size 1152x576 with 1 Axes>"
      ]
     },
     "metadata": {},
     "output_type": "display_data"
    },
    {
     "data": {
      "text/plain": [
       "'\\nTitle: sklearn k-Means (Elbow and Silhouette Method)\\nAuthor: Naik, K\\nDate: 2022\\nAvailability: https://www.kaggle.com/code/funxexcel/p2-sklearn-k-means-elbow-and-silhouette-method/notebook\\n'"
      ]
     },
     "execution_count": 14,
     "metadata": {},
     "output_type": "execute_result"
    }
   ],
   "source": [
    "\n",
    "SK = range(2,6)\n",
    "sil_score = []\n",
    "for i in SK:\n",
    "    labels=KMeans(n_clusters=i,init=\"k-means++\",random_state=200).fit(X_df1).labels_\n",
    "    score = metrics.silhouette_score(X_df1,labels,metric=\"euclidean\",sample_size=1000,random_state=200)\n",
    "    sil_score.append(score)\n",
    "    print (\"Silhouette score for k(clusters) = \"+str(i)+\" is \"\n",
    "           +str(metrics.silhouette_score(X_df1,labels,metric=\"euclidean\",sample_size=1000,random_state=200)))\n",
    "\n",
    "sil_centers = pd.DataFrame({'Clusters' : SK, 'Sil Score' : sil_score})\n",
    "print(sil_centers)\n",
    "\n",
    "plt.figure(figsize=(16,8))\n",
    "plt.plot(sil_centers['Clusters'], sil_centers['Sil Score'], color = '#f8ab1c')\n",
    "plt.xlabel('Clusters', fontsize=12)\n",
    "plt.ylabel('Sil Score', fontsize=12)\n",
    "plt.title('Silhouette scores showing the optimal k - Binary Classification', fontsize=18)\n",
    "plt.show()\n",
    "\n",
    "\"\"\"\n",
    "Title: sklearn k-Means (Elbow and Silhouette Method)\n",
    "Author: Naik, K\n",
    "Date: 2022\n",
    "Availability: https://www.kaggle.com/code/funxexcel/p2-sklearn-k-means-elbow-and-silhouette-method/notebook\n",
    "\"\"\""
   ]
  },
  {
   "cell_type": "markdown",
   "id": "03055412",
   "metadata": {},
   "source": [
    "### 5.3) Principal Component Ananlysis (Goalkeeper Actions Data)"
   ]
  },
  {
   "cell_type": "code",
   "execution_count": 15,
   "id": "29c8d586",
   "metadata": {},
   "outputs": [],
   "source": [
    "pca1 = PCA(n_components=2)\n",
    "X_pc1 = pca1.fit_transform(X_df1)\n",
    "X_pca1 = pd.DataFrame(data = X_pc1, columns = ['principal component 1', 'principal component 2'])\n",
    "\n",
    "X_train_pca1, X_test_pca1, y_train_pca1, y_test_pca1 = train_test_split(X_pca1, Y_1, test_size=0.3, random_state=42)"
   ]
  },
  {
   "cell_type": "markdown",
   "id": "13ed9c43",
   "metadata": {},
   "source": [
    "### 5.4) Elbow Method (Goalkeeper Dives Data)"
   ]
  },
  {
   "cell_type": "code",
   "execution_count": 30,
   "id": "42f594a2",
   "metadata": {},
   "outputs": [
    {
     "name": "stderr",
     "output_type": "stream",
     "text": [
      "C:\\Users\\darag\\AppData\\Local\\Temp/ipykernel_35504/1477396930.py:10: UserWarning: color is redundantly defined by the 'color' keyword argument and the fmt string \"bx-\" (-> color='b'). The keyword argument will take precedence.\n",
      "  plt.plot(K, Variance_2, 'bx-', color = 'green')\n"
     ]
    },
    {
     "data": {
      "image/png": "[encoded data removed]",
      "text/plain": [
       "<Figure size 1152x576 with 1 Axes>"
      ]
     },
     "metadata": {},
     "output_type": "display_data"
    },
    {
     "data": {
      "text/plain": [
       "'\\nTitle: sklearn k-Means (Elbow and Silhouette Method)\\nAuthor: Naik, K\\nDate: 2022\\nAvailability: https://www.kaggle.com/code/funxexcel/p2-sklearn-k-means-elbow-and-silhouette-method/notebook\\n'"
      ]
     },
     "execution_count": 30,
     "metadata": {},
     "output_type": "execute_result"
    }
   ],
   "source": [
    "Variance_2 = []\n",
    "K = range(1,7)\n",
    "#loop to fit KMeans to the binary data k between 1 and 7\n",
    "for k in K:\n",
    "    kmeanModel = KMeans(n_clusters=k)\n",
    "    kmeanModel.fit(X_df2)\n",
    "    Variance_2.append(kmeanModel.inertia_)\n",
    "    \n",
    "plt.figure(figsize=(16,8))\n",
    "plt.plot(K, Variance_2, 'bx-', color = 'green')\n",
    "plt.xlabel('k', fontsize=12)\n",
    "plt.ylabel('Variance', fontsize=12)\n",
    "plt.title('The Elbow Method showing the optimal k - Multi-Class Classification', fontsize=18)\n",
    "plt.show()\n",
    "\n",
    "\"\"\"\n",
    "Title: sklearn k-Means (Elbow and Silhouette Method)\n",
    "Author: Naik, K\n",
    "Date: 2022\n",
    "Availability: https://www.kaggle.com/code/funxexcel/p2-sklearn-k-means-elbow-and-silhouette-method/notebook\n",
    "\"\"\""
   ]
  },
  {
   "cell_type": "markdown",
   "id": "416aa7a6",
   "metadata": {},
   "source": [
    "### 5.5) Silhouette Scores (Goalkeeper Dives Data)"
   ]
  },
  {
   "cell_type": "code",
   "execution_count": 31,
   "id": "623ac3df",
   "metadata": {},
   "outputs": [
    {
     "name": "stdout",
     "output_type": "stream",
     "text": [
      "Silhouette score for k(clusters) = 2 is 0.1942840275367636\n",
      "Silhouette score for k(clusters) = 3 is 0.2020471268108928\n",
      "Silhouette score for k(clusters) = 4 is 0.21213979589912355\n",
      "Silhouette score for k(clusters) = 5 is 0.18794777292838888\n",
      "   Clusters  Sil Score\n",
      "0         2   0.194284\n",
      "1         3   0.202047\n",
      "2         4   0.212140\n",
      "3         5   0.187948\n"
     ]
    },
    {
     "data": {
      "image/png": "[encoded data removed]",
      "text/plain": [
       "<Figure size 1152x576 with 1 Axes>"
      ]
     },
     "metadata": {},
     "output_type": "display_data"
    },
    {
     "data": {
      "text/plain": [
       "'\\nTitle: sklearn k-Means (Elbow and Silhouette Method)\\nAuthor: Naik, K\\nDate: 2022\\nAvailability: https://www.kaggle.com/code/funxexcel/p2-sklearn-k-means-elbow-and-silhouette-method/notebook\\n'"
      ]
     },
     "execution_count": 31,
     "metadata": {},
     "output_type": "execute_result"
    }
   ],
   "source": [
    "SK = range(2,6)\n",
    "sil_score = []\n",
    "for i in SK:\n",
    "    labels=KMeans(n_clusters=i,init=\"k-means++\",random_state=200).fit(X_df2).labels_\n",
    "    score = metrics.silhouette_score(X_df2,labels,metric=\"euclidean\",sample_size=1000,random_state=200)\n",
    "    sil_score.append(score)\n",
    "    print (\"Silhouette score for k(clusters) = \"+str(i)+\" is \"\n",
    "           +str(metrics.silhouette_score(X_df2,labels,metric=\"euclidean\",sample_size=1000,random_state=200)))\n",
    "\n",
    "sil_centers = pd.DataFrame({'Clusters' : SK, 'Sil Score' : sil_score})\n",
    "print(sil_centers)\n",
    "\n",
    "plt.figure(figsize=(16,8))\n",
    "plt.plot(sil_centers['Clusters'], sil_centers['Sil Score'], color = 'green')\n",
    "plt.xlabel('Clusters', fontsize=12)\n",
    "plt.ylabel('Sil Score', fontsize=12)\n",
    "plt.title('Silhouette scores showing the optimal k - Multi-Class Classification', fontsize=18)\n",
    "plt.show()\n",
    "\n",
    "\"\"\"\n",
    "Title: sklearn k-Means (Elbow and Silhouette Method)\n",
    "Author: Naik, K\n",
    "Date: 2022\n",
    "Availability: https://www.kaggle.com/code/funxexcel/p2-sklearn-k-means-elbow-and-silhouette-method/notebook\n",
    "\"\"\""
   ]
  },
  {
   "cell_type": "markdown",
   "id": "b528d55a",
   "metadata": {},
   "source": [
    "### 5.6) Principal Component Ananlysis (Goalkeeper Actions Data)"
   ]
  },
  {
   "cell_type": "code",
   "execution_count": 18,
   "id": "102fe784",
   "metadata": {},
   "outputs": [],
   "source": [
    "pca2 = PCA(n_components=4)\n",
    "X_pc2 = pca2.fit_transform(X_df2)\n",
    "X_pca2 = pd.DataFrame(data = X_pc2, columns = ['principal component 1', 'principal component 2', 'principal component 3', 'principal component 4'])\n",
    "\n",
    "X_train_pca2, X_test_pca2, y_train_pca2, y_test_pca2 = train_test_split(X_pca2, Y_2, test_size=0.3, random_state=42)"
   ]
  },
  {
   "cell_type": "markdown",
   "id": "c18d0bc4",
   "metadata": {},
   "source": [
    "## 6) Building Models"
   ]
  },
  {
   "cell_type": "code",
   "execution_count": 19,
   "id": "3226c74f",
   "metadata": {},
   "outputs": [],
   "source": [
    "#Cross Validation & Machine learning Algorithms\n",
    "\n",
    "#function for creating Logistic Regression Classification models with specific hyper parameters\n",
    "def Log_Reg_Models(x, y, C, penalty):\n",
    "    \n",
    "  kf = KFold(n_splits=5)\n",
    "  #Logistic Regression Models        \n",
    "  logreg = LogisticRegression(C= C, penalty= penalty)\n",
    "  y_pred1 = cross_val_predict(logreg, x, y, cv= kf)\n",
    "  print('Logistic Regression Model Validation Results:')\n",
    "  print(classification_report(y, y_pred1))\n",
    "  logreg.fit(x, y)\n",
    "  return logreg\n",
    "\n",
    "#function for creating kNN Classification models with specific hyper parameters\n",
    "def Knn_Models(x, y, n, p, w):        \n",
    "  \n",
    "  kf = KFold(n_splits=5)  \n",
    "  #KNN Classification Models\n",
    "  knn = KNeighborsClassifier(n_neighbors=n, p=p, weights=w)\n",
    "  y_pred3 = cross_val_predict(knn, x, y, cv= kf)\n",
    "  print('KNN Classification Model Validation Results:')\n",
    "  print(classification_report(y, y_pred3))\n",
    "  knn.fit(x, y)\n",
    "  return knn\n",
    "\n",
    "#function for creating Deciscion Tree Classification models with specific hyper parameters\n",
    "def Dtree_Models(x, y, d, l, s):\n",
    "  \n",
    "  kf = KFold(n_splits=5)  \n",
    "  #Decision Tree Models\n",
    "  dtree = DecisionTreeClassifier(max_depth= d, min_samples_leaf = l, min_samples_split = s, class_weight=('balanced'))\n",
    "  y_pred4 = cross_val_predict(dtree, x, y, cv= kf)\n",
    "  print('Decision Tree Model Validation Results:')\n",
    "  print(classification_report(y, y_pred4))\n",
    "  dtree.fit(x, y)\n",
    "  return dtree\n",
    "\n",
    "#function for creating Support Vector Classifier Classification models with specific hyper parameters\n",
    "def SVC_Models(x, y, c, g):\n",
    "  \n",
    "  kf = KFold(n_splits=5)  \n",
    "  #Support Vector Classifier Models\n",
    "  clf = SVC(C= c, gamma= g, kernel='rbf')\n",
    "  y_pred5 = cross_val_predict(clf, x, y, cv= kf)\n",
    "  print('Support Vector Classifier Model Validation Results:')\n",
    "  print(classification_report(y, y_pred5))\n",
    "  clf.fit(x, y)\n",
    "  return clf\n",
    "  \n",
    "#function for creating Random Forest Classification models with specific hyper parameters  \n",
    "def RanF_Models(x, y, n, d, f):\n",
    "  \n",
    "  kf = KFold(n_splits=5)  \n",
    "  #Random Forest Models\n",
    "  rfc = RandomForestClassifier(n_estimators = n, max_depth = d, max_features = f, bootstrap = True, class_weight = 'balanced', random_state = 11)\n",
    "  y_pred6 = cross_val_predict(rfc, x, y, cv= kf)\n",
    "  print('Random forest Model Validation Results:')\n",
    "  print(classification_report(y, y_pred6))\n",
    "  rfc.fit(x, y)\n",
    "  return rfc\n",
    "\n",
    "#function for calculating models metrics\n",
    "def Model_Results(y_test, y_pred):\n",
    "  print('Accuracy:', accuracy_score(y_test, y_pred))\n",
    "  print('Precision:', precision_score(y_test, y_pred, average='weighted'))\n",
    "  print('Recall:', recall_score(y_test, y_pred, average='weighted'))\n",
    "  print('F1-score:', f1_score(y_test, y_pred, average='weighted'))"
   ]
  },
  {
   "cell_type": "markdown",
   "id": "17867c5d",
   "metadata": {},
   "source": [
    "## 7) Training and Testing Models/ Grid Search"
   ]
  },
  {
   "cell_type": "markdown",
   "id": "c18b87bd",
   "metadata": {},
   "source": [
    "### 7.1) Grid Search for Logistic Reression"
   ]
  },
  {
   "cell_type": "code",
   "execution_count": 20,
   "id": "4b8f17d6",
   "metadata": {},
   "outputs": [
    {
     "name": "stderr",
     "output_type": "stream",
     "text": [
      "C:\\Users\\darag\\Anaconda1\\lib\\site-packages\\sklearn\\model_selection\\_validation.py:615: FitFailedWarning: Estimator fit failed. The score on this train-test partition for these parameters will be set to nan. Details: \n",
      "Traceback (most recent call last):\n",
      "  File \"C:\\Users\\darag\\Anaconda1\\lib\\site-packages\\sklearn\\model_selection\\_validation.py\", line 598, in _fit_and_score\n",
      "    estimator.fit(X_train, y_train, **fit_params)\n",
      "  File \"C:\\Users\\darag\\Anaconda1\\lib\\site-packages\\sklearn\\linear_model\\_logistic.py\", line 1306, in fit\n",
      "    solver = _check_solver(self.solver, self.penalty, self.dual)\n",
      "  File \"C:\\Users\\darag\\Anaconda1\\lib\\site-packages\\sklearn\\linear_model\\_logistic.py\", line 443, in _check_solver\n",
      "    raise ValueError(\"Solver %s supports only 'l2' or 'none' penalties, \"\n",
      "ValueError: Solver lbfgs supports only 'l2' or 'none' penalties, got l1 penalty.\n",
      "\n",
      "  warnings.warn(\"Estimator fit failed. The score on this train-test\"\n",
      "C:\\Users\\darag\\Anaconda1\\lib\\site-packages\\sklearn\\model_selection\\_validation.py:615: FitFailedWarning: Estimator fit failed. The score on this train-test partition for these parameters will be set to nan. Details: \n",
      "Traceback (most recent call last):\n",
      "  File \"C:\\Users\\darag\\Anaconda1\\lib\\site-packages\\sklearn\\model_selection\\_validation.py\", line 598, in _fit_and_score\n",
      "    estimator.fit(X_train, y_train, **fit_params)\n",
      "  File \"C:\\Users\\darag\\Anaconda1\\lib\\site-packages\\sklearn\\linear_model\\_logistic.py\", line 1306, in fit\n",
      "    solver = _check_solver(self.solver, self.penalty, self.dual)\n",
      "  File \"C:\\Users\\darag\\Anaconda1\\lib\\site-packages\\sklearn\\linear_model\\_logistic.py\", line 443, in _check_solver\n",
      "    raise ValueError(\"Solver %s supports only 'l2' or 'none' penalties, \"\n",
      "ValueError: Solver lbfgs supports only 'l2' or 'none' penalties, got l1 penalty.\n",
      "\n",
      "  warnings.warn(\"Estimator fit failed. The score on this train-test\"\n",
      "C:\\Users\\darag\\Anaconda1\\lib\\site-packages\\sklearn\\model_selection\\_validation.py:615: FitFailedWarning: Estimator fit failed. The score on this train-test partition for these parameters will be set to nan. Details: \n",
      "Traceback (most recent call last):\n",
      "  File \"C:\\Users\\darag\\Anaconda1\\lib\\site-packages\\sklearn\\model_selection\\_validation.py\", line 598, in _fit_and_score\n",
      "    estimator.fit(X_train, y_train, **fit_params)\n",
      "  File \"C:\\Users\\darag\\Anaconda1\\lib\\site-packages\\sklearn\\linear_model\\_logistic.py\", line 1306, in fit\n",
      "    solver = _check_solver(self.solver, self.penalty, self.dual)\n",
      "  File \"C:\\Users\\darag\\Anaconda1\\lib\\site-packages\\sklearn\\linear_model\\_logistic.py\", line 443, in _check_solver\n",
      "    raise ValueError(\"Solver %s supports only 'l2' or 'none' penalties, \"\n",
      "ValueError: Solver lbfgs supports only 'l2' or 'none' penalties, got l1 penalty.\n",
      "\n",
      "  warnings.warn(\"Estimator fit failed. The score on this train-test\"\n",
      "C:\\Users\\darag\\Anaconda1\\lib\\site-packages\\sklearn\\model_selection\\_validation.py:615: FitFailedWarning: Estimator fit failed. The score on this train-test partition for these parameters will be set to nan. Details: \n",
      "Traceback (most recent call last):\n",
      "  File \"C:\\Users\\darag\\Anaconda1\\lib\\site-packages\\sklearn\\model_selection\\_validation.py\", line 598, in _fit_and_score\n",
      "    estimator.fit(X_train, y_train, **fit_params)\n",
      "  File \"C:\\Users\\darag\\Anaconda1\\lib\\site-packages\\sklearn\\linear_model\\_logistic.py\", line 1306, in fit\n",
      "    solver = _check_solver(self.solver, self.penalty, self.dual)\n",
      "  File \"C:\\Users\\darag\\Anaconda1\\lib\\site-packages\\sklearn\\linear_model\\_logistic.py\", line 443, in _check_solver\n",
      "    raise ValueError(\"Solver %s supports only 'l2' or 'none' penalties, \"\n",
      "ValueError: Solver lbfgs supports only 'l2' or 'none' penalties, got l1 penalty.\n",
      "\n",
      "  warnings.warn(\"Estimator fit failed. The score on this train-test\"\n",
      "C:\\Users\\darag\\Anaconda1\\lib\\site-packages\\sklearn\\model_selection\\_validation.py:615: FitFailedWarning: Estimator fit failed. The score on this train-test partition for these parameters will be set to nan. Details: \n",
      "Traceback (most recent call last):\n",
      "  File \"C:\\Users\\darag\\Anaconda1\\lib\\site-packages\\sklearn\\model_selection\\_validation.py\", line 598, in _fit_and_score\n",
      "    estimator.fit(X_train, y_train, **fit_params)\n",
      "  File \"C:\\Users\\darag\\Anaconda1\\lib\\site-packages\\sklearn\\linear_model\\_logistic.py\", line 1306, in fit\n",
      "    solver = _check_solver(self.solver, self.penalty, self.dual)\n",
      "  File \"C:\\Users\\darag\\Anaconda1\\lib\\site-packages\\sklearn\\linear_model\\_logistic.py\", line 443, in _check_solver\n",
      "    raise ValueError(\"Solver %s supports only 'l2' or 'none' penalties, \"\n",
      "ValueError: Solver lbfgs supports only 'l2' or 'none' penalties, got l1 penalty.\n",
      "\n",
      "  warnings.warn(\"Estimator fit failed. The score on this train-test\"\n",
      "C:\\Users\\darag\\Anaconda1\\lib\\site-packages\\sklearn\\model_selection\\_validation.py:615: FitFailedWarning: Estimator fit failed. The score on this train-test partition for these parameters will be set to nan. Details: \n",
      "Traceback (most recent call last):\n",
      "  File \"C:\\Users\\darag\\Anaconda1\\lib\\site-packages\\sklearn\\model_selection\\_validation.py\", line 598, in _fit_and_score\n",
      "    estimator.fit(X_train, y_train, **fit_params)\n",
      "  File \"C:\\Users\\darag\\Anaconda1\\lib\\site-packages\\sklearn\\linear_model\\_logistic.py\", line 1306, in fit\n",
      "    solver = _check_solver(self.solver, self.penalty, self.dual)\n",
      "  File \"C:\\Users\\darag\\Anaconda1\\lib\\site-packages\\sklearn\\linear_model\\_logistic.py\", line 443, in _check_solver\n",
      "    raise ValueError(\"Solver %s supports only 'l2' or 'none' penalties, \"\n",
      "ValueError: Solver lbfgs supports only 'l2' or 'none' penalties, got l1 penalty.\n",
      "\n",
      "  warnings.warn(\"Estimator fit failed. The score on this train-test\"\n",
      "C:\\Users\\darag\\Anaconda1\\lib\\site-packages\\sklearn\\model_selection\\_validation.py:615: FitFailedWarning: Estimator fit failed. The score on this train-test partition for these parameters will be set to nan. Details: \n",
      "Traceback (most recent call last):\n",
      "  File \"C:\\Users\\darag\\Anaconda1\\lib\\site-packages\\sklearn\\model_selection\\_validation.py\", line 598, in _fit_and_score\n",
      "    estimator.fit(X_train, y_train, **fit_params)\n",
      "  File \"C:\\Users\\darag\\Anaconda1\\lib\\site-packages\\sklearn\\linear_model\\_logistic.py\", line 1306, in fit\n",
      "    solver = _check_solver(self.solver, self.penalty, self.dual)\n",
      "  File \"C:\\Users\\darag\\Anaconda1\\lib\\site-packages\\sklearn\\linear_model\\_logistic.py\", line 443, in _check_solver\n",
      "    raise ValueError(\"Solver %s supports only 'l2' or 'none' penalties, \"\n",
      "ValueError: Solver lbfgs supports only 'l2' or 'none' penalties, got l1 penalty.\n",
      "\n",
      "  warnings.warn(\"Estimator fit failed. The score on this train-test\"\n",
      "C:\\Users\\darag\\Anaconda1\\lib\\site-packages\\sklearn\\model_selection\\_validation.py:615: FitFailedWarning: Estimator fit failed. The score on this train-test partition for these parameters will be set to nan. Details: \n",
      "Traceback (most recent call last):\n",
      "  File \"C:\\Users\\darag\\Anaconda1\\lib\\site-packages\\sklearn\\model_selection\\_validation.py\", line 598, in _fit_and_score\n",
      "    estimator.fit(X_train, y_train, **fit_params)\n",
      "  File \"C:\\Users\\darag\\Anaconda1\\lib\\site-packages\\sklearn\\linear_model\\_logistic.py\", line 1306, in fit\n",
      "    solver = _check_solver(self.solver, self.penalty, self.dual)\n",
      "  File \"C:\\Users\\darag\\Anaconda1\\lib\\site-packages\\sklearn\\linear_model\\_logistic.py\", line 443, in _check_solver\n",
      "    raise ValueError(\"Solver %s supports only 'l2' or 'none' penalties, \"\n",
      "ValueError: Solver lbfgs supports only 'l2' or 'none' penalties, got l1 penalty.\n",
      "\n",
      "  warnings.warn(\"Estimator fit failed. The score on this train-test\"\n",
      "C:\\Users\\darag\\Anaconda1\\lib\\site-packages\\sklearn\\model_selection\\_validation.py:615: FitFailedWarning: Estimator fit failed. The score on this train-test partition for these parameters will be set to nan. Details: \n",
      "Traceback (most recent call last):\n",
      "  File \"C:\\Users\\darag\\Anaconda1\\lib\\site-packages\\sklearn\\model_selection\\_validation.py\", line 598, in _fit_and_score\n",
      "    estimator.fit(X_train, y_train, **fit_params)\n",
      "  File \"C:\\Users\\darag\\Anaconda1\\lib\\site-packages\\sklearn\\linear_model\\_logistic.py\", line 1306, in fit\n",
      "    solver = _check_solver(self.solver, self.penalty, self.dual)\n",
      "  File \"C:\\Users\\darag\\Anaconda1\\lib\\site-packages\\sklearn\\linear_model\\_logistic.py\", line 443, in _check_solver\n",
      "    raise ValueError(\"Solver %s supports only 'l2' or 'none' penalties, \"\n",
      "ValueError: Solver lbfgs supports only 'l2' or 'none' penalties, got l1 penalty.\n",
      "\n",
      "  warnings.warn(\"Estimator fit failed. The score on this train-test\"\n",
      "C:\\Users\\darag\\Anaconda1\\lib\\site-packages\\sklearn\\model_selection\\_validation.py:615: FitFailedWarning: Estimator fit failed. The score on this train-test partition for these parameters will be set to nan. Details: \n",
      "Traceback (most recent call last):\n",
      "  File \"C:\\Users\\darag\\Anaconda1\\lib\\site-packages\\sklearn\\model_selection\\_validation.py\", line 598, in _fit_and_score\n",
      "    estimator.fit(X_train, y_train, **fit_params)\n",
      "  File \"C:\\Users\\darag\\Anaconda1\\lib\\site-packages\\sklearn\\linear_model\\_logistic.py\", line 1306, in fit\n",
      "    solver = _check_solver(self.solver, self.penalty, self.dual)\n",
      "  File \"C:\\Users\\darag\\Anaconda1\\lib\\site-packages\\sklearn\\linear_model\\_logistic.py\", line 443, in _check_solver\n",
      "    raise ValueError(\"Solver %s supports only 'l2' or 'none' penalties, \"\n",
      "ValueError: Solver lbfgs supports only 'l2' or 'none' penalties, got l1 penalty.\n",
      "\n",
      "  warnings.warn(\"Estimator fit failed. The score on this train-test\"\n"
     ]
    },
    {
     "name": "stderr",
     "output_type": "stream",
     "text": [
      "C:\\Users\\darag\\Anaconda1\\lib\\site-packages\\sklearn\\model_selection\\_validation.py:615: FitFailedWarning: Estimator fit failed. The score on this train-test partition for these parameters will be set to nan. Details: \n",
      "Traceback (most recent call last):\n",
      "  File \"C:\\Users\\darag\\Anaconda1\\lib\\site-packages\\sklearn\\model_selection\\_validation.py\", line 598, in _fit_and_score\n",
      "    estimator.fit(X_train, y_train, **fit_params)\n",
      "  File \"C:\\Users\\darag\\Anaconda1\\lib\\site-packages\\sklearn\\linear_model\\_logistic.py\", line 1306, in fit\n",
      "    solver = _check_solver(self.solver, self.penalty, self.dual)\n",
      "  File \"C:\\Users\\darag\\Anaconda1\\lib\\site-packages\\sklearn\\linear_model\\_logistic.py\", line 443, in _check_solver\n",
      "    raise ValueError(\"Solver %s supports only 'l2' or 'none' penalties, \"\n",
      "ValueError: Solver lbfgs supports only 'l2' or 'none' penalties, got l1 penalty.\n",
      "\n",
      "  warnings.warn(\"Estimator fit failed. The score on this train-test\"\n",
      "C:\\Users\\darag\\Anaconda1\\lib\\site-packages\\sklearn\\model_selection\\_validation.py:615: FitFailedWarning: Estimator fit failed. The score on this train-test partition for these parameters will be set to nan. Details: \n",
      "Traceback (most recent call last):\n",
      "  File \"C:\\Users\\darag\\Anaconda1\\lib\\site-packages\\sklearn\\model_selection\\_validation.py\", line 598, in _fit_and_score\n",
      "    estimator.fit(X_train, y_train, **fit_params)\n",
      "  File \"C:\\Users\\darag\\Anaconda1\\lib\\site-packages\\sklearn\\linear_model\\_logistic.py\", line 1306, in fit\n",
      "    solver = _check_solver(self.solver, self.penalty, self.dual)\n",
      "  File \"C:\\Users\\darag\\Anaconda1\\lib\\site-packages\\sklearn\\linear_model\\_logistic.py\", line 443, in _check_solver\n",
      "    raise ValueError(\"Solver %s supports only 'l2' or 'none' penalties, \"\n",
      "ValueError: Solver lbfgs supports only 'l2' or 'none' penalties, got l1 penalty.\n",
      "\n",
      "  warnings.warn(\"Estimator fit failed. The score on this train-test\"\n",
      "C:\\Users\\darag\\Anaconda1\\lib\\site-packages\\sklearn\\model_selection\\_validation.py:615: FitFailedWarning: Estimator fit failed. The score on this train-test partition for these parameters will be set to nan. Details: \n",
      "Traceback (most recent call last):\n",
      "  File \"C:\\Users\\darag\\Anaconda1\\lib\\site-packages\\sklearn\\model_selection\\_validation.py\", line 598, in _fit_and_score\n",
      "    estimator.fit(X_train, y_train, **fit_params)\n",
      "  File \"C:\\Users\\darag\\Anaconda1\\lib\\site-packages\\sklearn\\linear_model\\_logistic.py\", line 1306, in fit\n",
      "    solver = _check_solver(self.solver, self.penalty, self.dual)\n",
      "  File \"C:\\Users\\darag\\Anaconda1\\lib\\site-packages\\sklearn\\linear_model\\_logistic.py\", line 443, in _check_solver\n",
      "    raise ValueError(\"Solver %s supports only 'l2' or 'none' penalties, \"\n",
      "ValueError: Solver lbfgs supports only 'l2' or 'none' penalties, got l1 penalty.\n",
      "\n",
      "  warnings.warn(\"Estimator fit failed. The score on this train-test\"\n",
      "C:\\Users\\darag\\Anaconda1\\lib\\site-packages\\sklearn\\model_selection\\_validation.py:615: FitFailedWarning: Estimator fit failed. The score on this train-test partition for these parameters will be set to nan. Details: \n",
      "Traceback (most recent call last):\n",
      "  File \"C:\\Users\\darag\\Anaconda1\\lib\\site-packages\\sklearn\\model_selection\\_validation.py\", line 598, in _fit_and_score\n",
      "    estimator.fit(X_train, y_train, **fit_params)\n",
      "  File \"C:\\Users\\darag\\Anaconda1\\lib\\site-packages\\sklearn\\linear_model\\_logistic.py\", line 1306, in fit\n",
      "    solver = _check_solver(self.solver, self.penalty, self.dual)\n",
      "  File \"C:\\Users\\darag\\Anaconda1\\lib\\site-packages\\sklearn\\linear_model\\_logistic.py\", line 443, in _check_solver\n",
      "    raise ValueError(\"Solver %s supports only 'l2' or 'none' penalties, \"\n",
      "ValueError: Solver lbfgs supports only 'l2' or 'none' penalties, got l1 penalty.\n",
      "\n",
      "  warnings.warn(\"Estimator fit failed. The score on this train-test\"\n",
      "C:\\Users\\darag\\Anaconda1\\lib\\site-packages\\sklearn\\model_selection\\_validation.py:615: FitFailedWarning: Estimator fit failed. The score on this train-test partition for these parameters will be set to nan. Details: \n",
      "Traceback (most recent call last):\n",
      "  File \"C:\\Users\\darag\\Anaconda1\\lib\\site-packages\\sklearn\\model_selection\\_validation.py\", line 598, in _fit_and_score\n",
      "    estimator.fit(X_train, y_train, **fit_params)\n",
      "  File \"C:\\Users\\darag\\Anaconda1\\lib\\site-packages\\sklearn\\linear_model\\_logistic.py\", line 1306, in fit\n",
      "    solver = _check_solver(self.solver, self.penalty, self.dual)\n",
      "  File \"C:\\Users\\darag\\Anaconda1\\lib\\site-packages\\sklearn\\linear_model\\_logistic.py\", line 443, in _check_solver\n",
      "    raise ValueError(\"Solver %s supports only 'l2' or 'none' penalties, \"\n",
      "ValueError: Solver lbfgs supports only 'l2' or 'none' penalties, got l1 penalty.\n",
      "\n",
      "  warnings.warn(\"Estimator fit failed. The score on this train-test\"\n"
     ]
    },
    {
     "name": "stdout",
     "output_type": "stream",
     "text": [
      "Best parameters:  {'C': 1, 'penalty': 'l2'}\n",
      "Best score:  0.6764204165664018\n"
     ]
    },
    {
     "name": "stderr",
     "output_type": "stream",
     "text": [
      "C:\\Users\\darag\\Anaconda1\\lib\\site-packages\\sklearn\\model_selection\\_search.py:922: UserWarning: One or more of the test scores are non-finite: [       nan 0.67276276        nan 0.67642042        nan 0.67495789]\n",
      "  warnings.warn(\n"
     ]
    }
   ],
   "source": [
    "#Grid search to find the best parameters and score for Logistic Regression\n",
    "logreg = LogisticRegression()\n",
    "log_params = [{'C': [0.1, 1, 10], 'penalty': ['l1', 'l2']}]\n",
    "grid_search = GridSearchCV(logreg, log_params, cv = 5, scoring='accuracy')\n",
    "grid_search.fit(X_train_pca2, y_train2)\n",
    "\n",
    "print(\"Best parameters: \", grid_search.best_params_)\n",
    "print(\"Best score: \", grid_search.best_score_)"
   ]
  },
  {
   "cell_type": "markdown",
   "id": "1b4455f0",
   "metadata": {},
   "source": [
    "### 7.2) Logistic Regression Models"
   ]
  },
  {
   "cell_type": "code",
   "execution_count": 21,
   "id": "fb933342",
   "metadata": {},
   "outputs": [
    {
     "name": "stdout",
     "output_type": "stream",
     "text": [
      "Original Dataset with minimal Pre-Processing\n"
     ]
    },
    {
     "name": "stderr",
     "output_type": "stream",
     "text": [
      "C:\\Users\\darag\\Anaconda1\\lib\\site-packages\\sklearn\\linear_model\\_logistic.py:763: ConvergenceWarning: lbfgs failed to converge (status=1):\n",
      "STOP: TOTAL NO. of ITERATIONS REACHED LIMIT.\n",
      "\n",
      "Increase the number of iterations (max_iter) or scale the data as shown in:\n",
      "    https://scikit-learn.org/stable/modules/preprocessing.html\n",
      "Please also refer to the documentation for alternative solver options:\n",
      "    https://scikit-learn.org/stable/modules/linear_model.html#logistic-regression\n",
      "  n_iter_i = _check_optimize_result(\n",
      "C:\\Users\\darag\\Anaconda1\\lib\\site-packages\\sklearn\\linear_model\\_logistic.py:763: ConvergenceWarning: lbfgs failed to converge (status=1):\n",
      "STOP: TOTAL NO. of ITERATIONS REACHED LIMIT.\n",
      "\n",
      "Increase the number of iterations (max_iter) or scale the data as shown in:\n",
      "    https://scikit-learn.org/stable/modules/preprocessing.html\n",
      "Please also refer to the documentation for alternative solver options:\n",
      "    https://scikit-learn.org/stable/modules/linear_model.html#logistic-regression\n",
      "  n_iter_i = _check_optimize_result(\n",
      "C:\\Users\\darag\\Anaconda1\\lib\\site-packages\\sklearn\\linear_model\\_logistic.py:763: ConvergenceWarning: lbfgs failed to converge (status=1):\n",
      "STOP: TOTAL NO. of ITERATIONS REACHED LIMIT.\n",
      "\n",
      "Increase the number of iterations (max_iter) or scale the data as shown in:\n",
      "    https://scikit-learn.org/stable/modules/preprocessing.html\n",
      "Please also refer to the documentation for alternative solver options:\n",
      "    https://scikit-learn.org/stable/modules/linear_model.html#logistic-regression\n",
      "  n_iter_i = _check_optimize_result(\n",
      "C:\\Users\\darag\\Anaconda1\\lib\\site-packages\\sklearn\\linear_model\\_logistic.py:763: ConvergenceWarning: lbfgs failed to converge (status=1):\n",
      "STOP: TOTAL NO. of ITERATIONS REACHED LIMIT.\n",
      "\n",
      "Increase the number of iterations (max_iter) or scale the data as shown in:\n",
      "    https://scikit-learn.org/stable/modules/preprocessing.html\n",
      "Please also refer to the documentation for alternative solver options:\n",
      "    https://scikit-learn.org/stable/modules/linear_model.html#logistic-regression\n",
      "  n_iter_i = _check_optimize_result(\n",
      "C:\\Users\\darag\\Anaconda1\\lib\\site-packages\\sklearn\\linear_model\\_logistic.py:763: ConvergenceWarning: lbfgs failed to converge (status=1):\n",
      "STOP: TOTAL NO. of ITERATIONS REACHED LIMIT.\n",
      "\n",
      "Increase the number of iterations (max_iter) or scale the data as shown in:\n",
      "    https://scikit-learn.org/stable/modules/preprocessing.html\n",
      "Please also refer to the documentation for alternative solver options:\n",
      "    https://scikit-learn.org/stable/modules/linear_model.html#logistic-regression\n",
      "  n_iter_i = _check_optimize_result(\n"
     ]
    },
    {
     "name": "stdout",
     "output_type": "stream",
     "text": [
      "Logistic Regression Model Validation Results:\n",
      "              precision    recall  f1-score   support\n",
      "\n",
      "         0.0       0.84      0.91      0.87      3324\n",
      "         1.0       0.72      0.58      0.64      1361\n",
      "\n",
      "    accuracy                           0.81      4685\n",
      "   macro avg       0.78      0.74      0.76      4685\n",
      "weighted avg       0.81      0.81      0.81      4685\n",
      "\n"
     ]
    },
    {
     "name": "stderr",
     "output_type": "stream",
     "text": [
      "C:\\Users\\darag\\Anaconda1\\lib\\site-packages\\sklearn\\linear_model\\_logistic.py:763: ConvergenceWarning: lbfgs failed to converge (status=1):\n",
      "STOP: TOTAL NO. of ITERATIONS REACHED LIMIT.\n",
      "\n",
      "Increase the number of iterations (max_iter) or scale the data as shown in:\n",
      "    https://scikit-learn.org/stable/modules/preprocessing.html\n",
      "Please also refer to the documentation for alternative solver options:\n",
      "    https://scikit-learn.org/stable/modules/linear_model.html#logistic-regression\n",
      "  n_iter_i = _check_optimize_result(\n"
     ]
    },
    {
     "name": "stdout",
     "output_type": "stream",
     "text": [
      "Accuracy: 0.8072709163346613\n",
      "Precision: 0.8007730608976374\n",
      "Recall: 0.8072709163346613\n",
      "F1-score: 0.8004362506322985\n"
     ]
    },
    {
     "name": "stderr",
     "output_type": "stream",
     "text": [
      "C:\\Users\\darag\\Anaconda1\\lib\\site-packages\\sklearn\\linear_model\\_logistic.py:763: ConvergenceWarning: lbfgs failed to converge (status=1):\n",
      "STOP: TOTAL NO. of ITERATIONS REACHED LIMIT.\n",
      "\n",
      "Increase the number of iterations (max_iter) or scale the data as shown in:\n",
      "    https://scikit-learn.org/stable/modules/preprocessing.html\n",
      "Please also refer to the documentation for alternative solver options:\n",
      "    https://scikit-learn.org/stable/modules/linear_model.html#logistic-regression\n",
      "  n_iter_i = _check_optimize_result(\n",
      "C:\\Users\\darag\\Anaconda1\\lib\\site-packages\\sklearn\\linear_model\\_logistic.py:763: ConvergenceWarning: lbfgs failed to converge (status=1):\n",
      "STOP: TOTAL NO. of ITERATIONS REACHED LIMIT.\n",
      "\n",
      "Increase the number of iterations (max_iter) or scale the data as shown in:\n",
      "    https://scikit-learn.org/stable/modules/preprocessing.html\n",
      "Please also refer to the documentation for alternative solver options:\n",
      "    https://scikit-learn.org/stable/modules/linear_model.html#logistic-regression\n",
      "  n_iter_i = _check_optimize_result(\n",
      "C:\\Users\\darag\\Anaconda1\\lib\\site-packages\\sklearn\\linear_model\\_logistic.py:763: ConvergenceWarning: lbfgs failed to converge (status=1):\n",
      "STOP: TOTAL NO. of ITERATIONS REACHED LIMIT.\n",
      "\n",
      "Increase the number of iterations (max_iter) or scale the data as shown in:\n",
      "    https://scikit-learn.org/stable/modules/preprocessing.html\n",
      "Please also refer to the documentation for alternative solver options:\n",
      "    https://scikit-learn.org/stable/modules/linear_model.html#logistic-regression\n",
      "  n_iter_i = _check_optimize_result(\n",
      "C:\\Users\\darag\\Anaconda1\\lib\\site-packages\\sklearn\\linear_model\\_logistic.py:763: ConvergenceWarning: lbfgs failed to converge (status=1):\n",
      "STOP: TOTAL NO. of ITERATIONS REACHED LIMIT.\n",
      "\n",
      "Increase the number of iterations (max_iter) or scale the data as shown in:\n",
      "    https://scikit-learn.org/stable/modules/preprocessing.html\n",
      "Please also refer to the documentation for alternative solver options:\n",
      "    https://scikit-learn.org/stable/modules/linear_model.html#logistic-regression\n",
      "  n_iter_i = _check_optimize_result(\n",
      "C:\\Users\\darag\\Anaconda1\\lib\\site-packages\\sklearn\\linear_model\\_logistic.py:763: ConvergenceWarning: lbfgs failed to converge (status=1):\n",
      "STOP: TOTAL NO. of ITERATIONS REACHED LIMIT.\n",
      "\n",
      "Increase the number of iterations (max_iter) or scale the data as shown in:\n",
      "    https://scikit-learn.org/stable/modules/preprocessing.html\n",
      "Please also refer to the documentation for alternative solver options:\n",
      "    https://scikit-learn.org/stable/modules/linear_model.html#logistic-regression\n",
      "  n_iter_i = _check_optimize_result(\n"
     ]
    },
    {
     "name": "stdout",
     "output_type": "stream",
     "text": [
      "Logistic Regression Model Validation Results:\n",
      "              precision    recall  f1-score   support\n",
      "\n",
      "         1.0       0.60      0.35      0.45       133\n",
      "         3.0       0.62      0.45      0.52       117\n",
      "         5.0       0.73      0.83      0.78       379\n",
      "         7.0       0.70      0.79      0.74       387\n",
      "        10.0       0.60      0.58      0.59        98\n",
      "        11.0       0.53      0.52      0.53        88\n",
      "        13.0       0.56      0.54      0.55       164\n",
      "\n",
      "    accuracy                           0.67      1366\n",
      "   macro avg       0.62      0.58      0.59      1366\n",
      "weighted avg       0.66      0.67      0.66      1366\n",
      "\n"
     ]
    },
    {
     "name": "stderr",
     "output_type": "stream",
     "text": [
      "C:\\Users\\darag\\Anaconda1\\lib\\site-packages\\sklearn\\linear_model\\_logistic.py:763: ConvergenceWarning: lbfgs failed to converge (status=1):\n",
      "STOP: TOTAL NO. of ITERATIONS REACHED LIMIT.\n",
      "\n",
      "Increase the number of iterations (max_iter) or scale the data as shown in:\n",
      "    https://scikit-learn.org/stable/modules/preprocessing.html\n",
      "Please also refer to the documentation for alternative solver options:\n",
      "    https://scikit-learn.org/stable/modules/linear_model.html#logistic-regression\n",
      "  n_iter_i = _check_optimize_result(\n"
     ]
    },
    {
     "name": "stdout",
     "output_type": "stream",
     "text": [
      "Accuracy: 0.6621160409556314\n",
      "Precision: 0.6591880410833881\n",
      "Recall: 0.6621160409556314\n",
      "F1-score: 0.649073555975178\n",
      "Feature Selection Dataset with Standerdization\n",
      "Logistic Regression Model Validation Results:\n",
      "              precision    recall  f1-score   support\n",
      "\n",
      "         0.0       0.88      0.89      0.89      3324\n",
      "         1.0       0.73      0.72      0.72      1361\n",
      "\n",
      "    accuracy                           0.84      4685\n",
      "   macro avg       0.81      0.80      0.81      4685\n",
      "weighted avg       0.84      0.84      0.84      4685\n",
      "\n",
      "Accuracy: 0.8162350597609562\n",
      "Precision: 0.8144115865987467\n",
      "Recall: 0.8162350597609562\n",
      "F1-score: 0.8152052269314602\n",
      "Logistic Regression Model Validation Results:\n",
      "              precision    recall  f1-score   support\n",
      "\n",
      "         1.0       0.60      0.51      0.55       133\n",
      "         3.0       0.70      0.49      0.57       117\n",
      "         5.0       0.79      0.86      0.82       379\n",
      "         7.0       0.77      0.82      0.79       387\n",
      "        10.0       0.64      0.77      0.69        98\n",
      "        11.0       0.52      0.53      0.53        88\n",
      "        13.0       0.76      0.63      0.69       164\n",
      "\n",
      "    accuracy                           0.73      1366\n",
      "   macro avg       0.68      0.66      0.67      1366\n",
      "weighted avg       0.73      0.73      0.72      1366\n",
      "\n",
      "Accuracy: 0.735494880546075\n",
      "Precision: 0.7386730877529428\n",
      "Recall: 0.735494880546075\n",
      "F1-score: 0.7298331746524283\n",
      "PCA Dataset with Feature selection\n",
      "Logistic Regression Model Validation Results:\n",
      "              precision    recall  f1-score   support\n",
      "\n",
      "         0.0       0.83      0.91      0.87      3324\n",
      "         1.0       0.72      0.54      0.62      1361\n",
      "\n",
      "    accuracy                           0.81      4685\n",
      "   macro avg       0.78      0.73      0.74      4685\n",
      "weighted avg       0.80      0.81      0.80      4685\n",
      "\n",
      "Accuracy: 0.7853585657370518\n",
      "Precision: 0.7762210218076885\n",
      "Recall: 0.7853585657370518\n",
      "F1-score: 0.7735520546120433\n",
      "Logistic Regression Model Validation Results:\n",
      "              precision    recall  f1-score   support\n",
      "\n",
      "         1.0       0.66      0.44      0.53       133\n",
      "         3.0       0.69      0.45      0.55       117\n",
      "         5.0       0.79      0.87      0.82       379\n",
      "         7.0       0.73      0.82      0.77       387\n",
      "        10.0       0.60      0.68      0.64        98\n",
      "        11.0       0.41      0.18      0.25        88\n",
      "        13.0       0.47      0.55      0.51       164\n",
      "\n",
      "    accuracy                           0.68      1366\n",
      "   macro avg       0.62      0.57      0.58      1366\n",
      "weighted avg       0.67      0.68      0.67      1366\n",
      "\n",
      "Accuracy: 0.674061433447099\n",
      "Precision: 0.6724686874782838\n",
      "Recall: 0.674061433447099\n",
      "F1-score: 0.6649212322577056\n"
     ]
    }
   ],
   "source": [
    "#Original Dataset with minimal Pre-Processing\n",
    "print('Original Dataset with minimal Pre-Processing')\n",
    "LogR_1 = Log_Reg_Models(X_train1, y_train1, 0.1, 'l2')\n",
    "LogR_Pred1 = LogR_1.predict(X_test1)\n",
    "Model_Results(y_test1, LogR_Pred1)\n",
    "\n",
    "LogR_2 = Log_Reg_Models(X_train2, y_train2, 10, 'l2')\n",
    "LogR_Pred2 = LogR_2.predict(X_test2)\n",
    "Model_Results(y_test2, LogR_Pred2)\n",
    "\n",
    "#Feature Selection Dataset with Standerdization\n",
    "print('Feature Selection Dataset with Standerdization')\n",
    "LogR_1 = Log_Reg_Models(X_train_df1, y_train1, 1, 'l2')\n",
    "LogR_Pred1 = LogR_1.predict(X_test_df1)\n",
    "Model_Results(y_test1, LogR_Pred1)\n",
    "\n",
    "LogR_2 = Log_Reg_Models(X_train_df2, y_train2, 1, 'l2')\n",
    "LogR_Pred2 = LogR_2.predict(X_test_df2)\n",
    "Model_Results(y_test2, LogR_Pred2)\n",
    "\n",
    "#PCA Dataset with Feature selection\n",
    "print('PCA Dataset with Feature selection')\n",
    "LogR_1 = Log_Reg_Models(X_train_pca1, y_train1, 1, 'l2')\n",
    "LogR_Pred1 = LogR_1.predict(X_test_pca1)\n",
    "Model_Results(y_test1, LogR_Pred1)\n",
    "\n",
    "LogR_2 = Log_Reg_Models(X_train_pca2, y_train2, 1, 'l2')\n",
    "LogR_Pred2 = LogR_2.predict(X_test_pca2)\n",
    "Model_Results(y_test2, LogR_Pred2)"
   ]
  },
  {
   "cell_type": "markdown",
   "id": "3c3afdb5",
   "metadata": {},
   "source": [
    "### 7.3) Grid Search for kNN"
   ]
  },
  {
   "cell_type": "code",
   "execution_count": 22,
   "id": "e9a8c5a3",
   "metadata": {},
   "outputs": [
    {
     "name": "stdout",
     "output_type": "stream",
     "text": [
      "Best parameters:  {'n_neighbors': 17, 'p': 2, 'weights': 'distance'}\n",
      "Best score:  0.7276409721665196\n"
     ]
    }
   ],
   "source": [
    "#Grid search to find the best parameters and score for kNN\n",
    "knn = KNeighborsClassifier()\n",
    "knn_params = [{'n_neighbors': [3, 5, 7, 9, 13, 17], 'weights': ['uniform', 'distance'], \n",
    "              'p': [1, 2, 3]}]\n",
    "grid_search = GridSearchCV(knn, knn_params, cv = 5, scoring='accuracy')\n",
    "grid_search.fit(X_train_pca2, y_train2)\n",
    "\n",
    "print(\"Best parameters: \", grid_search.best_params_)\n",
    "print(\"Best score: \", grid_search.best_score_)"
   ]
  },
  {
   "cell_type": "markdown",
   "id": "1020b102",
   "metadata": {},
   "source": [
    "### 7.4) k-Nearest Neighbor Models"
   ]
  },
  {
   "cell_type": "code",
   "execution_count": 23,
   "id": "c335f566",
   "metadata": {},
   "outputs": [
    {
     "name": "stdout",
     "output_type": "stream",
     "text": [
      "Original Dataset with minimal Pre-Processing\n",
      "KNN Classification Model Validation Results:\n",
      "              precision    recall  f1-score   support\n",
      "\n",
      "         0.0       0.84      0.90      0.87      3324\n",
      "         1.0       0.70      0.60      0.65      1361\n",
      "\n",
      "    accuracy                           0.81      4685\n",
      "   macro avg       0.77      0.75      0.76      4685\n",
      "weighted avg       0.80      0.81      0.80      4685\n",
      "\n",
      "Accuracy: 0.8002988047808764\n",
      "Precision: 0.7933592963825717\n",
      "Recall: 0.8002988047808764\n",
      "F1-score: 0.7937651503759572\n",
      "KNN Classification Model Validation Results:\n",
      "              precision    recall  f1-score   support\n",
      "\n",
      "         1.0       0.47      0.35      0.40       133\n",
      "         3.0       0.49      0.40      0.44       117\n",
      "         5.0       0.73      0.79      0.76       379\n",
      "         7.0       0.68      0.73      0.70       387\n",
      "        10.0       0.58      0.71      0.64        98\n",
      "        11.0       0.46      0.62      0.53        88\n",
      "        13.0       0.71      0.48      0.57       164\n",
      "\n",
      "    accuracy                           0.64      1366\n",
      "   macro avg       0.59      0.58      0.58      1366\n",
      "weighted avg       0.64      0.64      0.64      1366\n",
      "\n",
      "Accuracy: 0.6348122866894198\n",
      "Precision: 0.6393077637158799\n",
      "Recall: 0.6348122866894198\n",
      "F1-score: 0.6296137387583665\n",
      "Feature Selection Dataset with Standerdization\n",
      "KNN Classification Model Validation Results:\n",
      "              precision    recall  f1-score   support\n",
      "\n",
      "         0.0       0.89      0.89      0.89      3324\n",
      "         1.0       0.74      0.73      0.73      1361\n",
      "\n",
      "    accuracy                           0.85      4685\n",
      "   macro avg       0.81      0.81      0.81      4685\n",
      "weighted avg       0.85      0.85      0.85      4685\n",
      "\n",
      "Accuracy: 0.8167330677290837\n",
      "Precision: 0.8159039697248424\n",
      "Recall: 0.8167330677290837\n",
      "F1-score: 0.8162963602887173\n",
      "KNN Classification Model Validation Results:\n",
      "              precision    recall  f1-score   support\n",
      "\n",
      "         1.0       0.70      0.67      0.68       133\n",
      "         3.0       0.66      0.54      0.59       117\n",
      "         5.0       0.84      0.86      0.85       379\n",
      "         7.0       0.81      0.83      0.82       387\n",
      "        10.0       0.71      0.91      0.80        98\n",
      "        11.0       0.69      0.67      0.68        88\n",
      "        13.0       0.80      0.71      0.75       164\n",
      "\n",
      "    accuracy                           0.78      1366\n",
      "   macro avg       0.74      0.74      0.74      1366\n",
      "weighted avg       0.78      0.78      0.78      1366\n",
      "\n",
      "Accuracy: 0.7713310580204779\n",
      "Precision: 0.7724291054014352\n",
      "Recall: 0.7713310580204779\n",
      "F1-score: 0.7710094032076331\n",
      "PCA Dataset with Feature selection\n",
      "KNN Classification Model Validation Results:\n",
      "              precision    recall  f1-score   support\n",
      "\n",
      "         0.0       0.88      0.87      0.87      3324\n",
      "         1.0       0.69      0.70      0.69      1361\n",
      "\n",
      "    accuracy                           0.82      4685\n",
      "   macro avg       0.78      0.78      0.78      4685\n",
      "weighted avg       0.82      0.82      0.82      4685\n",
      "\n",
      "Accuracy: 0.7928286852589641\n",
      "Precision: 0.7908178257418226\n",
      "Recall: 0.7928286852589641\n",
      "F1-score: 0.7917200556134516\n",
      "KNN Classification Model Validation Results:\n",
      "              precision    recall  f1-score   support\n",
      "\n",
      "         1.0       0.69      0.59      0.64       133\n",
      "         3.0       0.70      0.49      0.58       117\n",
      "         5.0       0.84      0.84      0.84       379\n",
      "         7.0       0.79      0.81      0.80       387\n",
      "        10.0       0.57      0.74      0.65        98\n",
      "        11.0       0.55      0.55      0.55        88\n",
      "        13.0       0.56      0.62      0.59       164\n",
      "\n",
      "    accuracy                           0.72      1366\n",
      "   macro avg       0.67      0.66      0.66      1366\n",
      "weighted avg       0.73      0.72      0.72      1366\n",
      "\n",
      "Accuracy: 0.6962457337883959\n",
      "Precision: 0.7034496097118842\n",
      "Recall: 0.6962457337883959\n",
      "F1-score: 0.6965433887166298\n"
     ]
    }
   ],
   "source": [
    "#Original Dataset with minimal Pre-Processing\n",
    "print('Original Dataset with minimal Pre-Processing')\n",
    "KNN_1 = Knn_Models(X_train1, y_train1, 9, 1, 'distance')\n",
    "KNN_Pred1 = KNN_1.predict(X_test1)\n",
    "Model_Results(y_test1, KNN_Pred1)\n",
    "\n",
    "KNN_2 = Knn_Models(X_train2, y_train2, 7, 1, 'distance')\n",
    "KNN_Pred2 = KNN_2.predict(X_test2)\n",
    "Model_Results(y_test2, KNN_Pred2)\n",
    "\n",
    "#Feature Selection Dataset with Standerdization\n",
    "print('Feature Selection Dataset with Standerdization')\n",
    "KNN_1 = Knn_Models(X_train_df1, y_train1, 9, 1, 'distance')\n",
    "KNN_Pred1 = KNN_1.predict(X_test_df1)\n",
    "Model_Results(y_test1, KNN_Pred1)\n",
    "\n",
    "KNN_2 = Knn_Models(X_train_df2, y_train2, 3, 1, 'distance')\n",
    "KNN_Pred2 = KNN_2.predict(X_test_df2)\n",
    "Model_Results(y_test2, KNN_Pred2)\n",
    "\n",
    "#PCA Dataset with Feature selection\n",
    "print('PCA Dataset with Feature selection')\n",
    "KNN_1 = Knn_Models(X_train_pca1, y_train1, 17, 1, 'uniform')\n",
    "KNN_Pred1 = KNN_1.predict(X_test_pca1)\n",
    "Model_Results(y_test1, KNN_Pred1)\n",
    "\n",
    "KNN_2 = Knn_Models(X_train_pca2, y_train2, 17, 2, 'distance')\n",
    "KNN_Pred2 = KNN_2.predict(X_test_pca2)\n",
    "Model_Results(y_test2, KNN_Pred2)"
   ]
  },
  {
   "cell_type": "markdown",
   "id": "236faed4",
   "metadata": {},
   "source": [
    "### 7.5) Grid Search for Decision Tree"
   ]
  },
  {
   "cell_type": "code",
   "execution_count": 24,
   "id": "ad290e42",
   "metadata": {},
   "outputs": [
    {
     "name": "stdout",
     "output_type": "stream",
     "text": [
      "Best parameters:  {'max_depth': 6, 'min_samples_leaf': 3, 'min_samples_split': 4}\n",
      "Best score:  0.6851982567311035\n"
     ]
    }
   ],
   "source": [
    "#Grid search to find the best parameters and score for Decision Trees\n",
    "dtree = DecisionTreeClassifier()\n",
    "dtree_params = [{'max_depth': [3, 4, 5, 6, 7, 8, 9, 10],\n",
    "              'min_samples_split': [2, 3, 4, 5, 6, 7, 8, 9, 10],\n",
    "              'min_samples_leaf': [1, 2, 3, 4, 5]}]\n",
    "grid_search = GridSearchCV(dtree, dtree_params, cv = 5, scoring='accuracy')\n",
    "grid_search.fit(X_train_pca2, y_train2)\n",
    "\n",
    "print(\"Best parameters: \", grid_search.best_params_)\n",
    "print(\"Best score: \", grid_search.best_score_)"
   ]
  },
  {
   "cell_type": "markdown",
   "id": "b7845d1c",
   "metadata": {},
   "source": [
    "### 7.6) Decision Tree Models"
   ]
  },
  {
   "cell_type": "code",
   "execution_count": 25,
   "id": "b514d95f",
   "metadata": {},
   "outputs": [
    {
     "name": "stdout",
     "output_type": "stream",
     "text": [
      "Original Dataset with minimal Pre-Processing\n",
      "Decision Tree Model Validation Results:\n",
      "              precision    recall  f1-score   support\n",
      "\n",
      "         0.0       0.93      0.81      0.86      3324\n",
      "         1.0       0.65      0.84      0.73      1361\n",
      "\n",
      "    accuracy                           0.82      4685\n",
      "   macro avg       0.79      0.83      0.80      4685\n",
      "weighted avg       0.84      0.82      0.83      4685\n",
      "\n",
      "Accuracy: 0.7868525896414342\n",
      "Precision: 0.8218367933777618\n",
      "Recall: 0.7868525896414342\n",
      "F1-score: 0.7942939937970686\n",
      "Decision Tree Model Validation Results:\n",
      "              precision    recall  f1-score   support\n",
      "\n",
      "         1.0       0.55      0.65      0.60       133\n",
      "         3.0       0.44      0.62      0.52       117\n",
      "         5.0       0.83      0.72      0.77       379\n",
      "         7.0       0.81      0.68      0.74       387\n",
      "        10.0       0.72      0.78      0.75        98\n",
      "        11.0       0.45      0.61      0.52        88\n",
      "        13.0       0.66      0.66      0.66       164\n",
      "\n",
      "    accuracy                           0.68      1366\n",
      "   macro avg       0.64      0.67      0.65      1366\n",
      "weighted avg       0.71      0.68      0.69      1366\n",
      "\n",
      "Accuracy: 0.6843003412969283\n",
      "Precision: 0.6959311523424969\n",
      "Recall: 0.6843003412969283\n",
      "F1-score: 0.6881856996065675\n",
      "Feature Selection Dataset with Standerdization\n",
      "Decision Tree Model Validation Results:\n",
      "              precision    recall  f1-score   support\n",
      "\n",
      "         0.0       0.93      0.82      0.87      3324\n",
      "         1.0       0.66      0.85      0.74      1361\n",
      "\n",
      "    accuracy                           0.83      4685\n",
      "   macro avg       0.79      0.83      0.81      4685\n",
      "weighted avg       0.85      0.83      0.83      4685\n",
      "\n",
      "Accuracy: 0.8052788844621513\n",
      "Precision: 0.8226714048269654\n",
      "Recall: 0.8052788844621513\n",
      "F1-score: 0.8101652287675484\n",
      "Decision Tree Model Validation Results:\n",
      "              precision    recall  f1-score   support\n",
      "\n",
      "         1.0       0.57      0.65      0.61       133\n",
      "         3.0       0.40      0.57      0.47       117\n",
      "         5.0       0.85      0.74      0.79       379\n",
      "         7.0       0.84      0.67      0.75       387\n",
      "        10.0       0.72      0.84      0.77        98\n",
      "        11.0       0.35      0.60      0.44        88\n",
      "        13.0       0.71      0.62      0.66       164\n",
      "\n",
      "    accuracy                           0.68      1366\n",
      "   macro avg       0.64      0.67      0.64      1366\n",
      "weighted avg       0.72      0.68      0.70      1366\n",
      "\n",
      "Accuracy: 0.658703071672355\n",
      "Precision: 0.7054927097361242\n",
      "Recall: 0.658703071672355\n",
      "F1-score: 0.6694453410910842\n",
      "PCA Dataset with Feature selection\n",
      "Decision Tree Model Validation Results:\n",
      "              precision    recall  f1-score   support\n",
      "\n",
      "         0.0       0.91      0.79      0.85      3324\n",
      "         1.0       0.61      0.81      0.70      1361\n",
      "\n",
      "    accuracy                           0.80      4685\n",
      "   macro avg       0.76      0.80      0.77      4685\n",
      "weighted avg       0.82      0.80      0.80      4685\n",
      "\n",
      "Accuracy: 0.7604581673306773\n",
      "Precision: 0.7914757370258757\n",
      "Recall: 0.7604581673306773\n",
      "F1-score: 0.7682931006941432\n",
      "Decision Tree Model Validation Results:\n",
      "              precision    recall  f1-score   support\n",
      "\n",
      "         1.0       0.47      0.63      0.54       133\n",
      "         3.0       0.46      0.54      0.50       117\n",
      "         5.0       0.84      0.61      0.71       379\n",
      "         7.0       0.82      0.67      0.74       387\n",
      "        10.0       0.58      0.79      0.67        98\n",
      "        11.0       0.30      0.51      0.38        88\n",
      "        13.0       0.54      0.60      0.57       164\n",
      "\n",
      "    accuracy                           0.63      1366\n",
      "   macro avg       0.57      0.62      0.59      1366\n",
      "weighted avg       0.68      0.63      0.64      1366\n",
      "\n",
      "Accuracy: 0.6160409556313993\n",
      "Precision: 0.6733674210980158\n",
      "Recall: 0.6160409556313993\n",
      "F1-score: 0.6316637058736906\n"
     ]
    }
   ],
   "source": [
    "#Original Dataset with minimal Pre-Processing\n",
    "print('Original Dataset with minimal Pre-Processing')\n",
    "Dtree_1 = Dtree_Models(X_train1, y_train1, 5, 1, 7)\n",
    "Dtree_Pred1 = Dtree_1.predict(X_test1)\n",
    "Model_Results(y_test1, Dtree_Pred1)\n",
    "\n",
    "Dtree_2 = Dtree_Models(X_train2, y_train2, 8, 1, 4)\n",
    "Dtree_Pred2 = Dtree_2.predict(X_test2)\n",
    "Model_Results(y_test2, Dtree_Pred2)\n",
    "\n",
    "#Feature Selection Dataset with Standerdization\n",
    "print('Feature Selection Dataset with Standerdization')\n",
    "Dtree_1 = Dtree_Models(X_train_df1, y_train1, 4, 1, 5)\n",
    "Dtree_Pred1 = Dtree_1.predict(X_test_df1)\n",
    "Model_Results(y_test1, Dtree_Pred1)\n",
    "\n",
    "Dtree_2 = Dtree_Models(X_train_df2, y_train2, 6, 4, 9)\n",
    "Dtree_Pred2 = Dtree_2.predict(X_test_df2)\n",
    "Model_Results(y_test2, Dtree_Pred2)\n",
    "\n",
    "#PCA Dataset with Feature selection\n",
    "print('PCA Dataset with Feature selection')\n",
    "Dtree_1 = Dtree_Models(X_train_pca1, y_train1, 5, 4, 3)\n",
    "Dtree_Pred1 = Dtree_1.predict(X_test_pca1)\n",
    "Model_Results(y_test1, Dtree_Pred1)\n",
    "\n",
    "Dtree_2 = Dtree_Models(X_train_pca2, y_train2, 6, 2, 5)\n",
    "Dtree_Pred2 = Dtree_2.predict(X_test_pca2)\n",
    "Model_Results(y_test2, Dtree_Pred2)"
   ]
  },
  {
   "cell_type": "markdown",
   "id": "b617ce38",
   "metadata": {},
   "source": [
    "### 7.7) Grid Search for Support Vector Classifier"
   ]
  },
  {
   "cell_type": "code",
   "execution_count": 26,
   "id": "3ced07b1",
   "metadata": {},
   "outputs": [
    {
     "name": "stdout",
     "output_type": "stream",
     "text": [
      "Best parameters:  {'gamma': 'auto'}\n",
      "Best score:  0.7254618860458277\n"
     ]
    }
   ],
   "source": [
    "#Grid search to find the best parameters and score for SVC\n",
    "svc = SVC()\n",
    "svc_params = [{'gamma': [0.001, 0.01, 0.1, 1, 'scale', 'auto']}]\n",
    "grid_search = GridSearchCV(svc, svc_params, cv = 5, scoring='accuracy')\n",
    "grid_search.fit(X_train_pca2, y_train2)\n",
    "\n",
    "print(\"Best parameters: \", grid_search.best_params_)\n",
    "print(\"Best score: \", grid_search.best_score_)"
   ]
  },
  {
   "cell_type": "markdown",
   "id": "f3c23ebc",
   "metadata": {},
   "source": [
    "### 7.8) Support Vector Classifier Models"
   ]
  },
  {
   "cell_type": "code",
   "execution_count": 27,
   "id": "ff6dff3f",
   "metadata": {},
   "outputs": [
    {
     "name": "stdout",
     "output_type": "stream",
     "text": [
      "Original Dataset with minimal Pre-Processing\n",
      "Support Vector Classifier Model Validation Results:\n",
      "              precision    recall  f1-score   support\n",
      "\n",
      "         0.0       0.85      0.91      0.88      3324\n",
      "         1.0       0.73      0.62      0.67      1361\n",
      "\n",
      "    accuracy                           0.82      4685\n",
      "   macro avg       0.79      0.76      0.78      4685\n",
      "weighted avg       0.82      0.82      0.82      4685\n",
      "\n",
      "Accuracy: 0.8107569721115537\n",
      "Precision: 0.8049869916658825\n",
      "Recall: 0.8107569721115537\n",
      "F1-score: 0.8056283478360395\n",
      "Support Vector Classifier Model Validation Results:\n",
      "              precision    recall  f1-score   support\n",
      "\n",
      "         1.0       0.62      0.48      0.54       133\n",
      "         3.0       0.58      0.43      0.49       117\n",
      "         5.0       0.77      0.83      0.80       379\n",
      "         7.0       0.73      0.79      0.76       387\n",
      "        10.0       0.61      0.68      0.65        98\n",
      "        11.0       0.60      0.60      0.60        88\n",
      "        13.0       0.65      0.59      0.62       164\n",
      "\n",
      "    accuracy                           0.70      1366\n",
      "   macro avg       0.65      0.63      0.64      1366\n",
      "weighted avg       0.69      0.70      0.69      1366\n",
      "\n",
      "Accuracy: 0.6774744027303754\n",
      "Precision: 0.6748346178561836\n",
      "Recall: 0.6774744027303754\n",
      "F1-score: 0.6724263971344911\n",
      "Feature Selection Dataset with Standerdization\n",
      "Support Vector Classifier Model Validation Results:\n",
      "              precision    recall  f1-score   support\n",
      "\n",
      "         0.0       0.90      0.89      0.89      3324\n",
      "         1.0       0.74      0.75      0.74      1361\n",
      "\n",
      "    accuracy                           0.85      4685\n",
      "   macro avg       0.82      0.82      0.82      4685\n",
      "weighted avg       0.85      0.85      0.85      4685\n",
      "\n",
      "Accuracy: 0.8242031872509961\n",
      "Precision: 0.8244529777101764\n",
      "Recall: 0.8242031872509961\n",
      "F1-score: 0.8243260771117688\n",
      "Support Vector Classifier Model Validation Results:\n",
      "              precision    recall  f1-score   support\n",
      "\n",
      "         1.0       0.82      0.63      0.71       133\n",
      "         3.0       0.76      0.56      0.64       117\n",
      "         5.0       0.85      0.88      0.86       379\n",
      "         7.0       0.80      0.86      0.83       387\n",
      "        10.0       0.73      0.85      0.78        98\n",
      "        11.0       0.53      0.77      0.63        88\n",
      "        13.0       0.85      0.68      0.76       164\n",
      "\n",
      "    accuracy                           0.79      1366\n",
      "   macro avg       0.76      0.75      0.75      1366\n",
      "weighted avg       0.80      0.79      0.79      1366\n",
      "\n",
      "Accuracy: 0.7679180887372014\n",
      "Precision: 0.7820316467861349\n",
      "Recall: 0.7679180887372014\n",
      "F1-score: 0.7697283303596278\n",
      "PCA Dataset with Feature selection\n",
      "Support Vector Classifier Model Validation Results:\n",
      "              precision    recall  f1-score   support\n",
      "\n",
      "         0.0       0.88      0.88      0.88      3324\n",
      "         1.0       0.70      0.71      0.71      1361\n",
      "\n",
      "    accuracy                           0.83      4685\n",
      "   macro avg       0.79      0.79      0.79      4685\n",
      "weighted avg       0.83      0.83      0.83      4685\n",
      "\n",
      "Accuracy: 0.8042828685258964\n",
      "Precision: 0.8026402327729844\n",
      "Recall: 0.8042828685258964\n",
      "F1-score: 0.803382979968018\n",
      "Support Vector Classifier Model Validation Results:\n",
      "              precision    recall  f1-score   support\n",
      "\n",
      "         1.0       0.70      0.56      0.62       133\n",
      "         3.0       0.71      0.40      0.51       117\n",
      "         5.0       0.83      0.85      0.84       379\n",
      "         7.0       0.76      0.82      0.79       387\n",
      "        10.0       0.60      0.83      0.69        98\n",
      "        11.0       0.58      0.41      0.48        88\n",
      "        13.0       0.56      0.66      0.61       164\n",
      "\n",
      "    accuracy                           0.72      1366\n",
      "   macro avg       0.68      0.65      0.65      1366\n",
      "weighted avg       0.72      0.72      0.72      1366\n",
      "\n",
      "Accuracy: 0.7013651877133106\n",
      "Precision: 0.7093797697267265\n",
      "Recall: 0.7013651877133106\n",
      "F1-score: 0.6976321913263664\n"
     ]
    }
   ],
   "source": [
    "#Original Dataset with minimal Pre-Processing\n",
    "print('Original Dataset with minimal Pre-Processing')\n",
    "SVC_1 = SVC_Models(X_train1, y_train1, 100, 'scale')\n",
    "SVC_Pred1 = SVC_1.predict(X_test1)\n",
    "Model_Results(y_test1, SVC_Pred1)\n",
    "\n",
    "SVC_2 = SVC_Models(X_train2, y_train2, 100, 'scale')\n",
    "SVC_Pred2 = SVC_2.predict(X_test2)\n",
    "Model_Results(y_test2, SVC_Pred2)\n",
    "\n",
    "#Feature Selection Dataset with Standerdization\n",
    "print('Feature Selection Dataset with Standerdization')\n",
    "SVC_1 = SVC_Models(X_train_df1, y_train1, 1, 0.1, )\n",
    "SVC_Pred1 = SVC_1.predict(X_test_df1)\n",
    "Model_Results(y_test1, SVC_Pred1)\n",
    "\n",
    "SVC_2 = SVC_Models(X_train_df2, y_train2, 1, 'scale')\n",
    "SVC_Pred2 = SVC_2.predict(X_test_df2)\n",
    "Model_Results(y_test2, SVC_Pred2)\n",
    "\n",
    "#PCA Dataset with Feature selection\n",
    "print('PCA Dataset with Feature selection')\n",
    "SVC_1 = SVC_Models(X_train_pca1, y_train1, 100, 'auto')\n",
    "SVC_Pred1 = SVC_1.predict(X_test_pca1)\n",
    "Model_Results(y_test1, SVC_Pred1)\n",
    "\n",
    "SVC_2 = SVC_Models(X_train_pca2, y_train2, 1, 'auto')\n",
    "SVC_Pred2 = SVC_2.predict(X_test_pca2)\n",
    "Model_Results(y_test2, SVC_Pred2)"
   ]
  },
  {
   "cell_type": "markdown",
   "id": "f1906191",
   "metadata": {},
   "source": [
    "### 7.9) Grid Search for Random Forest"
   ]
  },
  {
   "cell_type": "code",
   "execution_count": 28,
   "id": "5ee8e2ba",
   "metadata": {},
   "outputs": [
    {
     "name": "stdout",
     "output_type": "stream",
     "text": [
      "Best parameters:  {'n_estimators': 300}\n",
      "Best score:  0.7291248897088314\n"
     ]
    }
   ],
   "source": [
    "#Grid search to find the best parameters and score for Random Forest\n",
    "rfc = RandomForestClassifier()\n",
    "rfc_params = [{'n_estimators': [100, 300, 500, 700]}]\n",
    "grid_search = GridSearchCV(rfc, rfc_params, cv = 5, scoring='accuracy')\n",
    "grid_search.fit(X_train_pca2, y_train2)\n",
    "\n",
    "print(\"Best parameters: \", grid_search.best_params_)\n",
    "print(\"Best score: \", grid_search.best_score_)"
   ]
  },
  {
   "cell_type": "markdown",
   "id": "297f2ac5",
   "metadata": {},
   "source": [
    "### 7.10) Random Forest Models"
   ]
  },
  {
   "cell_type": "code",
   "execution_count": 29,
   "id": "8c769d9c",
   "metadata": {},
   "outputs": [
    {
     "name": "stdout",
     "output_type": "stream",
     "text": [
      "Original Dataset with minimal Pre-Processing\n",
      "Random forest Model Validation Results:\n",
      "              precision    recall  f1-score   support\n",
      "\n",
      "         0.0       0.92      0.88      0.90      3324\n",
      "         1.0       0.73      0.81      0.77      1361\n",
      "\n",
      "    accuracy                           0.86      4685\n",
      "   macro avg       0.82      0.84      0.83      4685\n",
      "weighted avg       0.86      0.86      0.86      4685\n",
      "\n",
      "Accuracy: 0.8401394422310757\n",
      "Precision: 0.8447918979810153\n",
      "Recall: 0.8401394422310757\n",
      "F1-score: 0.8418863026753877\n",
      "Random forest Model Validation Results:\n",
      "              precision    recall  f1-score   support\n",
      "\n",
      "         1.0       0.87      0.59      0.70       133\n",
      "         3.0       0.87      0.53      0.66       117\n",
      "         5.0       0.83      0.90      0.86       379\n",
      "         7.0       0.80      0.89      0.84       387\n",
      "        10.0       0.83      0.93      0.88        98\n",
      "        11.0       0.76      0.75      0.75        88\n",
      "        13.0       0.78      0.77      0.78       164\n",
      "\n",
      "    accuracy                           0.81      1366\n",
      "   macro avg       0.82      0.77      0.78      1366\n",
      "weighted avg       0.82      0.81      0.81      1366\n",
      "\n",
      "Accuracy: 0.8156996587030717\n",
      "Precision: 0.8255623984413396\n",
      "Recall: 0.8156996587030717\n",
      "F1-score: 0.8127953150561141\n",
      "Feature Selection Dataset with Standerdization\n",
      "Random forest Model Validation Results:\n",
      "              precision    recall  f1-score   support\n",
      "\n",
      "         0.0       0.92      0.86      0.89      3324\n",
      "         1.0       0.70      0.82      0.75      1361\n",
      "\n",
      "    accuracy                           0.85      4685\n",
      "   macro avg       0.81      0.84      0.82      4685\n",
      "weighted avg       0.86      0.85      0.85      4685\n",
      "\n",
      "Accuracy: 0.8197211155378487\n",
      "Precision: 0.8296289191426054\n",
      "Recall: 0.8197211155378487\n",
      "F1-score: 0.8229628037740537\n",
      "Random forest Model Validation Results:\n",
      "              precision    recall  f1-score   support\n",
      "\n",
      "         1.0       0.76      0.61      0.68       133\n",
      "         3.0       0.83      0.49      0.61       117\n",
      "         5.0       0.83      0.88      0.85       379\n",
      "         7.0       0.81      0.87      0.84       387\n",
      "        10.0       0.70      0.92      0.80        98\n",
      "        11.0       0.63      0.62      0.63        88\n",
      "        13.0       0.75      0.70      0.73       164\n",
      "\n",
      "    accuracy                           0.78      1366\n",
      "   macro avg       0.76      0.73      0.73      1366\n",
      "weighted avg       0.78      0.78      0.78      1366\n",
      "\n",
      "Accuracy: 0.7815699658703071\n",
      "Precision: 0.7927074982836878\n",
      "Recall: 0.7815699658703071\n",
      "F1-score: 0.7790482998524819\n",
      "PCA Dataset with Feature selection\n",
      "Random forest Model Validation Results:\n",
      "              precision    recall  f1-score   support\n",
      "\n",
      "         0.0       0.90      0.82      0.86      3324\n",
      "         1.0       0.65      0.79      0.71      1361\n",
      "\n",
      "    accuracy                           0.81      4685\n",
      "   macro avg       0.78      0.81      0.79      4685\n",
      "weighted avg       0.83      0.81      0.82      4685\n",
      "\n",
      "Accuracy: 0.7788844621513944\n",
      "Precision: 0.795816856622292\n",
      "Recall: 0.7788844621513944\n",
      "F1-score: 0.7841569402731754\n",
      "Random forest Model Validation Results:\n",
      "              precision    recall  f1-score   support\n",
      "\n",
      "         1.0       0.63      0.61      0.62       133\n",
      "         3.0       0.58      0.52      0.55       117\n",
      "         5.0       0.85      0.82      0.83       379\n",
      "         7.0       0.81      0.76      0.78       387\n",
      "        10.0       0.64      0.83      0.72        98\n",
      "        11.0       0.48      0.59      0.53        88\n",
      "        13.0       0.60      0.62      0.61       164\n",
      "\n",
      "    accuracy                           0.72      1366\n",
      "   macro avg       0.65      0.68      0.66      1366\n",
      "weighted avg       0.72      0.72      0.72      1366\n",
      "\n",
      "Accuracy: 0.6825938566552902\n",
      "Precision: 0.7063431591832083\n",
      "Recall: 0.6825938566552902\n",
      "F1-score: 0.6888901904420323\n"
     ]
    }
   ],
   "source": [
    "#Original Dataset with minimal Pre-Processing\n",
    "print('Original Dataset with minimal Pre-Processing')\n",
    "RanF_1 = RanF_Models(X_train1, y_train1, 500, 9, None)\n",
    "RanF_Pred1 = RanF_1.predict(X_test1)\n",
    "Model_Results(y_test1, RanF_Pred1)\n",
    "\n",
    "RanF_2 = RanF_Models(X_train2, y_train2, 500, None, 'log2')\n",
    "RanF_Pred2 = RanF_2.predict(X_test2)\n",
    "Model_Results(y_test2, RanF_Pred2)\n",
    "\n",
    "#Feature Selection Dataset with Standerdization\n",
    "print('Feature Selection Dataset with Standerdization')\n",
    "RanF_1 = RanF_Models(X_train_df1, y_train1, 700, 7, None)\n",
    "RanF_Pred1 = RanF_1.predict(X_test_df1)\n",
    "Model_Results(y_test1, RanF_Pred1)\n",
    "\n",
    "RanF_2 = RanF_Models(X_train_df2, y_train2, 300, None, 'log2')\n",
    "RanF_Pred2 = RanF_2.predict(X_test_df2)\n",
    "Model_Results(y_test2, RanF_Pred2)\n",
    "\n",
    "#PCA Dataset with Feature selection\n",
    "print('PCA Dataset with Feature selection')\n",
    "RanF_1 = RanF_Models(X_train_pca1, y_train1, 300, 7, 'sqrt')\n",
    "RanF_Pred1 = RanF_1.predict(X_test_pca1)\n",
    "Model_Results(y_test1, RanF_Pred1)\n",
    "\n",
    "RanF_2 = RanF_Models(X_train_pca2, y_train2, 700, 7, 'log2')\n",
    "RanF_Pred2 = RanF_2.predict(X_test_pca2)\n",
    "Model_Results(y_test2, RanF_Pred2)\n",
    "              "
   ]
  }
 ],
 "metadata": {
  "kernelspec": {
   "display_name": "Python 3 (ipykernel)",
   "language": "python",
   "name": "python3"
  },
  "language_info": {
   "codemirror_mode": {
    "name": "ipython",
    "version": 3
   },
   "file_extension": ".py",
   "mimetype": "text/x-python",
   "name": "python",
   "nbconvert_exporter": "python",
   "pygments_lexer": "ipython3",
   "version": "3.9.7"
  }
 },
 "nbformat": 4,
 "nbformat_minor": 5
}
